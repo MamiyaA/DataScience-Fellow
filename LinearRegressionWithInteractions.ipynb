{
 "cells": [
  {
   "cell_type": "markdown",
   "metadata": {},
   "source": [
    "# Load the results from lasso regression and run linear regression\n",
    "\n",
    "### Load the output from the lasso regression and all features¶\n",
    "\n",
    "- load the outputs from the Run_LasoRegression_and_Average.ipynb (obtain average coefficient weights for each feature).\n",
    "\n",
    "- load all the features (output from DataExplorationAndPreProcessing.ipynb, AddingEmployeeSalary.ipynb, and AddingResponseStandardDeviation.ipyn\n",
    "\n",
    "### Run linear regression 1000 times (with interaction terms)\n",
    "\n",
    "- Chose the top 3 features from the lasso regression (based on the weight of the coefficient) and use those features plus the interactions among them.\n",
    "\n",
    "- Run linear regression 1000 times and average the results.\n",
    "\n",
    "### Save the output data (as .pkl file) for using them in the Streamlit app.\n",
    "\n",
    "- Save the combined features and the results from the linear regression."
   ]
  },
  {
   "cell_type": "code",
   "execution_count": 2,
   "metadata": {},
   "outputs": [],
   "source": [
    "#Import packages\n",
    "\n",
    "import numpy as np\n",
    "import pandas as pd\n",
    "import os\n",
    "\n",
    "\n",
    "import matplotlib.pyplot as plt\n",
    "import seaborn as sb\n",
    "sb.set()\n",
    "color = sb.color_palette()\n",
    "import matplotlib as mpl\n",
    "\n",
    "%matplotlib inline\n",
    "\n",
    "import pickle\n",
    "\n",
    "from sklearn import preprocessing as pp \n",
    "#import the entire linear model\n",
    "from sklearn import linear_model\n",
    "from sklearn.linear_model import Lasso\n",
    "from sklearn.model_selection import train_test_split\n",
    "from sklearn.metrics import r2_score\n",
    "from scipy.stats import pearsonr \n",
    "from sklearn.decomposition import PCA\n",
    "from sklearn.linear_model import LassoCV\n",
    "\n",
    "from scipy.stats import wilcoxon"
   ]
  },
  {
   "cell_type": "markdown",
   "metadata": {},
   "source": [
    "### load features and outputs from the lasso regression"
   ]
  },
  {
   "cell_type": "code",
   "execution_count": 3,
   "metadata": {},
   "outputs": [],
   "source": [
    "#Load features and turnover rate\n",
    "feature_set = pd.read_pickle(\"./feature_set.pkl\")\n",
    "turnOverRate = pd.read_pickle(\"./turnOverRate.pkl\")\n",
    "location_pay = pd.read_pickle(\"./location_pay.pkl\")\n",
    "location_sd = pd.read_pickle(\"./location_sdS_df.pkl\")"
   ]
  },
  {
   "cell_type": "code",
   "execution_count": 4,
   "metadata": {},
   "outputs": [],
   "source": [
    "#Load the results from lasso regression.\n",
    "with open('lasso_output.pickle', 'rb') as f:  \n",
    "    test_r_squared, lasso_alpha, lasso_coef = pickle.load(f)"
   ]
  },
  {
   "cell_type": "markdown",
   "metadata": {},
   "source": [
    "### Calculate the average coefficients for each feature in the lasso regression model and plot them"
   ]
  },
  {
   "cell_type": "code",
   "execution_count": 7,
   "metadata": {},
   "outputs": [
    {
     "data": {
      "text/plain": [
       "[<matplotlib.lines.Line2D at 0x7ffb88ac06a0>]"
      ]
     },
     "execution_count": 7,
     "metadata": {},
     "output_type": "execute_result"
    },
    {
     "data": {
      "image/png": "[encoded data removed]",
      "text/plain": [
       "<Figure size 432x288 with 1 Axes>"
      ]
     },
     "metadata": {
      "needs_background": "light"
     },
     "output_type": "display_data"
    }
   ],
   "source": [
    "#Show the average weight of the coefficiencts.\n",
    "lasso_coef_df = pd.DataFrame(data=lasso_coef)\n",
    "mean_coef=lasso_coef_df.mean()\n",
    "\n",
    "plt.plot(mean_coef,alpha=0.7,linestyle='none',marker='*',markersize=8,color='red') "
   ]
  },
  {
   "cell_type": "markdown",
   "metadata": {},
   "source": [
    "### Show a list of coefficients with large average weight (absolute weight)"
   ]
  },
  {
   "cell_type": "code",
   "execution_count": 8,
   "metadata": {},
   "outputs": [
    {
     "data": {
      "text/plain": [
       "55    0.158653\n",
       "62    0.128890\n",
       "21    0.086848\n",
       "64    0.077530\n",
       "24    0.043275\n",
       "dtype: float64"
      ]
     },
     "execution_count": 8,
     "metadata": {},
     "output_type": "execute_result"
    }
   ],
   "source": [
    "abs_mean_coef=abs(mean_coef)\n",
    "top_coef=abs_mean_coef.sort_values(ascending=False)\n",
    "top_coef.head()"
   ]
  },
  {
   "cell_type": "markdown",
   "metadata": {},
   "source": [
    "### Select the top 3 features and get their interaction terms"
   ]
  },
  {
   "cell_type": "code",
   "execution_count": 9,
   "metadata": {},
   "outputs": [],
   "source": [
    "#Choose top 3 features.\n",
    "\n",
    "#all features.\n",
    "all_features = pd.concat([feature_set,location_pay,location_sd], axis = 1)\n",
    "\n",
    "features_number = 3\n",
    "#get the top n features and construct a new feature.\n",
    "top_coef=abs_mean_coef.sort_values(ascending=False)\n",
    "\n",
    "selected_features = all_features.iloc[:,top_coef.index[0]]\n",
    "\n",
    "for features in range(features_number-1):\n",
    "    selected_features = pd.concat([selected_features, all_features.iloc[:,top_coef.index[features+1]]], axis = 1)\n",
    "\n"
   ]
  },
  {
   "cell_type": "code",
   "execution_count": 10,
   "metadata": {},
   "outputs": [
    {
     "data": {
      "text/html": [
       "<div>\n",
       "<style scoped>\n",
       "    .dataframe tbody tr th:only-of-type {\n",
       "        vertical-align: middle;\n",
       "    }\n",
       "\n",
       "    .dataframe tbody tr th {\n",
       "        vertical-align: top;\n",
       "    }\n",
       "\n",
       "    .dataframe thead th {\n",
       "        text-align: right;\n",
       "    }\n",
       "</style>\n",
       "<table border=\"1\" class=\"dataframe\">\n",
       "  <thead>\n",
       "    <tr style=\"text-align: right;\">\n",
       "      <th></th>\n",
       "      <th>0</th>\n",
       "      <th>1</th>\n",
       "      <th>2</th>\n",
       "      <th>3</th>\n",
       "      <th>4</th>\n",
       "      <th>5</th>\n",
       "    </tr>\n",
       "  </thead>\n",
       "  <tbody>\n",
       "    <tr>\n",
       "      <th>0</th>\n",
       "      <td>0.467229</td>\n",
       "      <td>-1.180298</td>\n",
       "      <td>1.103600</td>\n",
       "      <td>-0.551469</td>\n",
       "      <td>0.515634</td>\n",
       "      <td>-1.302577</td>\n",
       "    </tr>\n",
       "    <tr>\n",
       "      <th>1</th>\n",
       "      <td>-1.504403</td>\n",
       "      <td>-1.045167</td>\n",
       "      <td>-0.092121</td>\n",
       "      <td>1.572352</td>\n",
       "      <td>0.138588</td>\n",
       "      <td>0.096282</td>\n",
       "    </tr>\n",
       "    <tr>\n",
       "      <th>2</th>\n",
       "      <td>0.888779</td>\n",
       "      <td>0.775737</td>\n",
       "      <td>-0.562840</td>\n",
       "      <td>0.689458</td>\n",
       "      <td>-0.500240</td>\n",
       "      <td>-0.436616</td>\n",
       "    </tr>\n",
       "    <tr>\n",
       "      <th>3</th>\n",
       "      <td>-0.026882</td>\n",
       "      <td>-0.108571</td>\n",
       "      <td>-0.092121</td>\n",
       "      <td>0.002919</td>\n",
       "      <td>0.002476</td>\n",
       "      <td>0.010002</td>\n",
       "    </tr>\n",
       "    <tr>\n",
       "      <th>4</th>\n",
       "      <td>0.679443</td>\n",
       "      <td>-0.224316</td>\n",
       "      <td>-1.280074</td>\n",
       "      <td>-0.152410</td>\n",
       "      <td>-0.869737</td>\n",
       "      <td>0.287141</td>\n",
       "    </tr>\n",
       "  </tbody>\n",
       "</table>\n",
       "</div>"
      ],
      "text/plain": [
       "          0         1         2         3         4         5\n",
       "0  0.467229 -1.180298  1.103600 -0.551469  0.515634 -1.302577\n",
       "1 -1.504403 -1.045167 -0.092121  1.572352  0.138588  0.096282\n",
       "2  0.888779  0.775737 -0.562840  0.689458 -0.500240 -0.436616\n",
       "3 -0.026882 -0.108571 -0.092121  0.002919  0.002476  0.010002\n",
       "4  0.679443 -0.224316 -1.280074 -0.152410 -0.869737  0.287141"
      ]
     },
     "execution_count": 10,
     "metadata": {},
     "output_type": "execute_result"
    }
   ],
   "source": [
    "#top 3 features with their interactions.\n",
    "poly = pp.PolynomialFeatures(interaction_only=True,include_bias = False)\n",
    "selected_features_interaction=poly.fit_transform(selected_features)\n",
    "selected_features_interaction=pd.DataFrame(data=selected_features_interaction)\n",
    "selected_features_interaction.head()"
   ]
  },
  {
   "cell_type": "code",
   "execution_count": 11,
   "metadata": {},
   "outputs": [
    {
     "data": {
      "text/plain": [
       "['x0', 'x1', 'x2', 'x0 x1', 'x0 x2', 'x1 x2']"
      ]
     },
     "execution_count": 11,
     "metadata": {},
     "output_type": "execute_result"
    }
   ],
   "source": [
    "#Order of features and interactions\n",
    "poly.get_feature_names()"
   ]
  },
  {
   "cell_type": "markdown",
   "metadata": {},
   "source": [
    "### Run linear regression with interaction terms (1000 repeat)"
   ]
  },
  {
   "cell_type": "code",
   "execution_count": 12,
   "metadata": {},
   "outputs": [],
   "source": [
    "#make a model with interactions.\n",
    "#Run N times and take the average.\n",
    "#Try to use the shuffle split function => later\n",
    "x_linear = selected_features_interaction\n",
    "y_linear = turnOverRate #Turn over\n",
    "\n",
    "train_number = 1000\n",
    "#Run this part for 1000 times and get the values for r-squared, alpha, and the weights.\n",
    "#reg.alpha_, reg.coef_, r2score.\n",
    "\n",
    "#initialize\n",
    "linear_r_squared = np.zeros((train_number,1))\n",
    "linear_coef = np.zeros((train_number,x_linear.shape[1]))\n",
    "\n",
    "for trialNo in range(train_number):\n",
    "    \n",
    "    #split 80-20\n",
    "    Xl_train, Xl_test, Yl_train, Yl_test = train_test_split(x_linear, y_linear, test_size=0.2)\n",
    "    \n",
    "\n",
    "    linear_reg = linear_model.LinearRegression()\n",
    "    linear_reg.fit(Xl_train,Yl_train)\n",
    "    \n",
    "    \n",
    "    Ypredl = linear_reg.predict(Xl_test)\n",
    "    \n",
    "    linear_r_squared[trialNo] = r2_score(Yl_test, Ypredl)\n",
    "    linear_coef[trialNo,:] = linear_reg.coef_"
   ]
  },
  {
   "cell_type": "markdown",
   "metadata": {},
   "source": [
    "### Check the distribution of the coefficient of determination (r-squared) and the average weights"
   ]
  },
  {
   "cell_type": "code",
   "execution_count": 13,
   "metadata": {},
   "outputs": [
    {
     "data": {
      "image/png": "[encoded data removed]",
      "text/plain": [
       "<Figure size 432x288 with 1 Axes>"
      ]
     },
     "metadata": {
      "needs_background": "light"
     },
     "output_type": "display_data"
    }
   ],
   "source": [
    "#Distribution of the coefficient of determination (r-squared)\n",
    "linear_r_squared_df=pd.DataFrame(data=linear_r_squared)\n",
    "#linear_r_squared_df.hist()\n",
    "sb.distplot(linear_r_squared_df)\n",
    "sb.despine()"
   ]
  },
  {
   "cell_type": "code",
   "execution_count": 14,
   "metadata": {},
   "outputs": [
    {
     "name": "stdout",
     "output_type": "stream",
     "text": [
      "5.502226908981674e-80\n"
     ]
    }
   ],
   "source": [
    "#Check statistical significance\n",
    "sum_ranks, pval_w = wilcoxon(linear_r_squared[:,0])\n",
    "print(pval_w)"
   ]
  },
  {
   "cell_type": "code",
   "execution_count": 15,
   "metadata": {},
   "outputs": [
    {
     "data": {
      "text/plain": [
       "[<matplotlib.lines.Line2D at 0x7ffb8811e588>]"
      ]
     },
     "execution_count": 15,
     "metadata": {},
     "output_type": "execute_result"
    },
    {
     "data": {
      "image/png": "[encoded data removed]",
      "text/plain": [
       "<Figure size 432x288 with 1 Axes>"
      ]
     },
     "metadata": {
      "needs_background": "light"
     },
     "output_type": "display_data"
    }
   ],
   "source": [
    "#Average weight of the coefficient for each feature (and interaction)\n",
    "linear_coef_df = pd.DataFrame(data=linear_coef)\n",
    "\n",
    "mean_linear_coef=linear_coef_df.mean()\n",
    "\n",
    "plt.plot(mean_linear_coef,alpha=0.7,linestyle='none',marker='*',markersize=10,color='red') \n"
   ]
  },
  {
   "cell_type": "code",
   "execution_count": 16,
   "metadata": {},
   "outputs": [
    {
     "data": {
      "image/png": "[encoded data removed]",
      "text/plain": [
       "<Figure size 432x288 with 1 Axes>"
      ]
     },
     "metadata": {
      "needs_background": "light"
     },
     "output_type": "display_data"
    }
   ],
   "source": [
    "#Distribution of coefficients for the top feature (answer to the question \"Do you think we provide excellent service\")\n",
    "sb.distplot(linear_coef_df.iloc[:,0])\n",
    "sb.despine()"
   ]
  },
  {
   "cell_type": "code",
   "execution_count": 17,
   "metadata": {},
   "outputs": [
    {
     "data": {
      "image/png": "[encoded data removed]",
      "text/plain": [
       "<Figure size 432x288 with 1 Axes>"
      ]
     },
     "metadata": {
      "needs_background": "light"
     },
     "output_type": "display_data"
    }
   ],
   "source": [
    "#Distribution of coefficients for the 2nd feature (Chef's tenure)\n",
    "sb.distplot(linear_coef_df.iloc[:,1])\n",
    "sb.despine()"
   ]
  },
  {
   "cell_type": "code",
   "execution_count": 18,
   "metadata": {},
   "outputs": [
    {
     "data": {
      "image/png": "[encoded data removed]",
      "text/plain": [
       "<Figure size 432x288 with 1 Axes>"
      ]
     },
     "metadata": {
      "needs_background": "light"
     },
     "output_type": "display_data"
    }
   ],
   "source": [
    "#Distribution of coefficients for the 3rd feature (answer to the question \"Do managers avoid playing favorites\")\n",
    "sb.distplot(linear_coef_df.iloc[:,2])\n",
    "sb.despine()"
   ]
  },
  {
   "cell_type": "markdown",
   "metadata": {},
   "source": [
    "### Save the output and features (for use in the streamlit app)"
   ]
  },
  {
   "cell_type": "code",
   "execution_count": 19,
   "metadata": {},
   "outputs": [],
   "source": [
    "with open('linear_output.pickle', 'wb') as f:\n",
    "    pickle.dump([linear_r_squared_df, linear_coef_df], f)"
   ]
  },
  {
   "cell_type": "code",
   "execution_count": 20,
   "metadata": {},
   "outputs": [],
   "source": [
    "#Features and interactions.\n",
    "selected_features_interaction=pd.DataFrame(data=selected_features_interaction)\n",
    "selected_features_interaction.to_pickle(\"./selected_features_interaction.pkl\")\n"
   ]
  },
  {
   "cell_type": "markdown",
   "metadata": {},
   "source": [
    "### Check partial correlations between the turnover rate and the top 3 features."
   ]
  },
  {
   "cell_type": "code",
   "execution_count": 21,
   "metadata": {},
   "outputs": [],
   "source": [
    "#From Fabian Pedregosa-Izquierdo, f@bianp.net\n",
    "import numpy as np\n",
    "from scipy import stats, linalg\n",
    "\n",
    "def partial_corr(C):\n",
    "    \"\"\"\n",
    "    Returns the sample linear partial correlation coefficients between pairs of variables in C, controlling \n",
    "    for the remaining variables in C.\n",
    "    Parameters\n",
    "    ----------\n",
    "    C : array-like, shape (n, p)\n",
    "        Array with the different variables. Each column of C is taken as a variable\n",
    "    Returns\n",
    "    -------\n",
    "    P : array-like, shape (p, p)\n",
    "        P[i, j] contains the partial correlation of C[:, i] and C[:, j] controlling\n",
    "        for the remaining variables in C.\n",
    "    \"\"\"\n",
    "    \n",
    "    C = np.asarray(C)\n",
    "    p = C.shape[1]\n",
    "    P_corr = np.zeros((p, p), dtype=np.float)\n",
    "    for i in range(p):\n",
    "        P_corr[i, i] = 1\n",
    "        for j in range(i+1, p):\n",
    "            idx = np.ones(p, dtype=np.bool)\n",
    "            idx[i] = False\n",
    "            idx[j] = False\n",
    "            beta_i = linalg.lstsq(C[:, idx], C[:, j])[0]\n",
    "            beta_j = linalg.lstsq(C[:, idx], C[:, i])[0]\n",
    "\n",
    "            res_j = C[:, j] - C[:, idx].dot( beta_i)\n",
    "            res_i = C[:, i] - C[:, idx].dot(beta_j)\n",
    "            \n",
    "            corr = stats.pearsonr(res_i, res_j)[0]\n",
    "            P_corr[i, j] = corr\n",
    "            P_corr[j, i] = corr\n",
    "        \n",
    "    return P_corr\n",
    "\n",
    "turnOver_features = pd.concat([turnOverRate, selected_features], axis = 1)\n",
    "partial_corr_array = turnOver_features.to_numpy()\n",
    "\n",
    "# Calculate the partial correlation coefficients\n",
    "partial_corr_results = partial_corr(partial_corr_array)"
   ]
  },
  {
   "cell_type": "code",
   "execution_count": 22,
   "metadata": {},
   "outputs": [
    {
     "data": {
      "text/plain": [
       "<matplotlib.axes._subplots.AxesSubplot at 0x7ffb880c82e8>"
      ]
     },
     "execution_count": 22,
     "metadata": {},
     "output_type": "execute_result"
    },
    {
     "data": {
      "image/png": "[encoded data removed]",
      "text/plain": [
       "<Figure size 432x432 with 2 Axes>"
      ]
     },
     "metadata": {
      "needs_background": "light"
     },
     "output_type": "display_data"
    }
   ],
   "source": [
    "#Plot the matrix for partial correlation between the turnover rate (0 in the matrix) and top 3 features (1-3)\n",
    "\n",
    "partial_corr_results_df = pd.DataFrame(data=partial_corr_results)\n",
    "f, ax = plt.subplots(figsize=(6, 6))\n",
    "sb.heatmap(partial_corr_results, annot=True, linewidths=.5, ax=ax)"
   ]
  }
 ],
 "metadata": {
  "anaconda-cloud": {},
  "kernelspec": {
   "display_name": "Python 3",
   "language": "python",
   "name": "python3"
  },
  "language_info": {
   "codemirror_mode": {
    "name": "ipython",
    "version": 3
   },
   "file_extension": ".py",
   "mimetype": "text/x-python",
   "name": "python",
   "nbconvert_exporter": "python",
   "pygments_lexer": "ipython3",
   "version": "3.6.10"
  }
 },
 "nbformat": 4,
 "nbformat_minor": 2
}
