{
 "cells": [
  {
   "cell_type": "code",
   "execution_count": 26,
   "metadata": {},
   "outputs": [],
   "source": [
    "import numpy as np\n",
    "import pandas as pd\n",
    "import os\n",
    "\n",
    "\n",
    "import matplotlib.pyplot as plt\n",
    "import seaborn as sb\n",
    "color = sb.color_palette()\n",
    "import matplotlib as mpl\n",
    "\n",
    "%matplotlib inline\n",
    "\n",
    "from sklearn import preprocessing as pp \n",
    "#import the entire linear model\n",
    "from sklearn import linear_model\n",
    "from sklearn.linear_model import Lasso\n",
    "from sklearn.model_selection import train_test_split\n",
    "from sklearn.metrics import r2_score\n",
    "from scipy.stats import pearsonr \n",
    "from sklearn.decomposition import PCA\n",
    "from sklearn.linear_model import LassoCV\n"
   ]
  },
  {
   "cell_type": "code",
   "execution_count": 27,
   "metadata": {},
   "outputs": [],
   "source": [
    "#Read the new excel file, this contains the annual pay for indiviual employees\n",
    "#Read Excel data provided. Read the first tab.\n",
    "current_path = os.getcwd()\n",
    "file = '/datasets/ActivatedInsights/ExtraDataForAkira.xlsx'\n",
    "data1 = pd.read_excel(current_path + file)"
   ]
  },
  {
   "cell_type": "code",
   "execution_count": 28,
   "metadata": {},
   "outputs": [
    {
     "data": {
      "text/html": [
       "<div>\n",
       "<style scoped>\n",
       "    .dataframe tbody tr th:only-of-type {\n",
       "        vertical-align: middle;\n",
       "    }\n",
       "\n",
       "    .dataframe tbody tr th {\n",
       "        vertical-align: top;\n",
       "    }\n",
       "\n",
       "    .dataframe thead th {\n",
       "        text-align: right;\n",
       "    }\n",
       "</style>\n",
       "<table border=\"1\" class=\"dataframe\">\n",
       "  <thead>\n",
       "    <tr style=\"text-align: right;\">\n",
       "      <th></th>\n",
       "      <th>OLD # May 2018 Location Code</th>\n",
       "      <th>New # May 2019 Location Code</th>\n",
       "      <th>Department- Updated</th>\n",
       "      <th>LGBT</th>\n",
       "      <th>Managerial Level- Updated</th>\n",
       "      <th>Meaningful Innovation Opportunities</th>\n",
       "      <th>Pay Type</th>\n",
       "      <th>Responsibility</th>\n",
       "      <th>Role</th>\n",
       "      <th>Tenure</th>\n",
       "      <th>Work Status</th>\n",
       "      <th>Annual pay</th>\n",
       "      <th>zip(home)</th>\n",
       "      <th>Job Title</th>\n",
       "      <th>Action/Reason Description</th>\n",
       "      <th>Voluntary/Involuntary</th>\n",
       "    </tr>\n",
       "  </thead>\n",
       "  <tbody>\n",
       "    <tr>\n",
       "      <th>0</th>\n",
       "      <td>1075.0</td>\n",
       "      <td>1075.0</td>\n",
       "      <td>Admin</td>\n",
       "      <td>Yes</td>\n",
       "      <td>Employee-IC</td>\n",
       "      <td>A lot</td>\n",
       "      <td>Hourly</td>\n",
       "      <td>Neither children nor elders</td>\n",
       "      <td>RECRUITING PROGRAM COORDINATOR</td>\n",
       "      <td>6 months to 9 months</td>\n",
       "      <td>Full-time</td>\n",
       "      <td>52000.0</td>\n",
       "      <td>32806</td>\n",
       "      <td>RECRUITING PROGRAM COORDINATOR</td>\n",
       "      <td>NaN</td>\n",
       "      <td>NaN</td>\n",
       "    </tr>\n",
       "    <tr>\n",
       "      <th>1</th>\n",
       "      <td>5504.0</td>\n",
       "      <td>5954.0</td>\n",
       "      <td>Activities</td>\n",
       "      <td>No</td>\n",
       "      <td>Employee-IC</td>\n",
       "      <td>A lot</td>\n",
       "      <td>Hourly</td>\n",
       "      <td>Both children and elders</td>\n",
       "      <td>ENRICHMENT COORDINATOR</td>\n",
       "      <td>9 months to 1 year</td>\n",
       "      <td>Full-time</td>\n",
       "      <td>33280.0</td>\n",
       "      <td>80212</td>\n",
       "      <td>ENRICHMENT COORDINATOR</td>\n",
       "      <td>Resignation</td>\n",
       "      <td>Voluntary</td>\n",
       "    </tr>\n",
       "    <tr>\n",
       "      <th>2</th>\n",
       "      <td>5504.0</td>\n",
       "      <td>5954.0</td>\n",
       "      <td>Housekeeping-Maint-Sec</td>\n",
       "      <td>No</td>\n",
       "      <td>Frontline manager</td>\n",
       "      <td>A lot</td>\n",
       "      <td>Hourly</td>\n",
       "      <td>Both children and elders</td>\n",
       "      <td>HEAD HOUSEKEEPER</td>\n",
       "      <td>Over 20 years</td>\n",
       "      <td>Full-time</td>\n",
       "      <td>34632.0</td>\n",
       "      <td>80226</td>\n",
       "      <td>HEAD HOUSEKEEPER</td>\n",
       "      <td>NaN</td>\n",
       "      <td>NaN</td>\n",
       "    </tr>\n",
       "    <tr>\n",
       "      <th>3</th>\n",
       "      <td>5504.0</td>\n",
       "      <td>5954.0</td>\n",
       "      <td>Admin</td>\n",
       "      <td>No</td>\n",
       "      <td>Frontline manager</td>\n",
       "      <td>A lot</td>\n",
       "      <td>Hourly</td>\n",
       "      <td>Elders</td>\n",
       "      <td>ASSISTANT GENERAL MANAGER</td>\n",
       "      <td>1 year to 2 years</td>\n",
       "      <td>Full-time</td>\n",
       "      <td>45177.6</td>\n",
       "      <td>80107</td>\n",
       "      <td>ASSISTANT GENERAL MANAGER</td>\n",
       "      <td>Resignation</td>\n",
       "      <td>Voluntary</td>\n",
       "    </tr>\n",
       "    <tr>\n",
       "      <th>4</th>\n",
       "      <td>5504.0</td>\n",
       "      <td>5954.0</td>\n",
       "      <td>Housekeeping-Maint-Sec</td>\n",
       "      <td>No</td>\n",
       "      <td>Employee-IC</td>\n",
       "      <td>A lot</td>\n",
       "      <td>Hourly</td>\n",
       "      <td>Both children and elders</td>\n",
       "      <td>HOUSEKEEPING (CLEANING)</td>\n",
       "      <td>1 year to 2 years</td>\n",
       "      <td>Full-time</td>\n",
       "      <td>29120.0</td>\n",
       "      <td>80219</td>\n",
       "      <td>HOUSEKEEPING (CLEANING)</td>\n",
       "      <td>NaN</td>\n",
       "      <td>NaN</td>\n",
       "    </tr>\n",
       "  </tbody>\n",
       "</table>\n",
       "</div>"
      ],
      "text/plain": [
       "   OLD # May 2018 Location Code  New # May 2019 Location Code  \\\n",
       "0                        1075.0                        1075.0   \n",
       "1                        5504.0                        5954.0   \n",
       "2                        5504.0                        5954.0   \n",
       "3                        5504.0                        5954.0   \n",
       "4                        5504.0                        5954.0   \n",
       "\n",
       "      Department- Updated LGBT Managerial Level- Updated  \\\n",
       "0                   Admin  Yes               Employee-IC   \n",
       "1              Activities   No               Employee-IC   \n",
       "2  Housekeeping-Maint-Sec   No         Frontline manager   \n",
       "3                   Admin   No         Frontline manager   \n",
       "4  Housekeeping-Maint-Sec   No               Employee-IC   \n",
       "\n",
       "  Meaningful Innovation Opportunities Pay Type               Responsibility  \\\n",
       "0                               A lot   Hourly  Neither children nor elders   \n",
       "1                               A lot   Hourly     Both children and elders   \n",
       "2                               A lot   Hourly     Both children and elders   \n",
       "3                               A lot   Hourly                       Elders   \n",
       "4                               A lot   Hourly     Both children and elders   \n",
       "\n",
       "                             Role                Tenure Work Status  \\\n",
       "0  RECRUITING PROGRAM COORDINATOR  6 months to 9 months   Full-time   \n",
       "1          ENRICHMENT COORDINATOR    9 months to 1 year   Full-time   \n",
       "2                HEAD HOUSEKEEPER         Over 20 years   Full-time   \n",
       "3       ASSISTANT GENERAL MANAGER     1 year to 2 years   Full-time   \n",
       "4         HOUSEKEEPING (CLEANING)     1 year to 2 years   Full-time   \n",
       "\n",
       "   Annual pay zip(home)                       Job Title  \\\n",
       "0     52000.0     32806  RECRUITING PROGRAM COORDINATOR   \n",
       "1     33280.0     80212          ENRICHMENT COORDINATOR   \n",
       "2     34632.0     80226                HEAD HOUSEKEEPER   \n",
       "3     45177.6     80107       ASSISTANT GENERAL MANAGER   \n",
       "4     29120.0     80219         HOUSEKEEPING (CLEANING)   \n",
       "\n",
       "  Action/Reason Description Voluntary/Involuntary  \n",
       "0                       NaN                   NaN  \n",
       "1               Resignation             Voluntary  \n",
       "2                       NaN                   NaN  \n",
       "3               Resignation             Voluntary  \n",
       "4                       NaN                   NaN  "
      ]
     },
     "execution_count": 28,
     "metadata": {},
     "output_type": "execute_result"
    }
   ],
   "source": [
    "data1.head()"
   ]
  },
  {
   "cell_type": "code",
   "execution_count": 29,
   "metadata": {
    "scrolled": true
   },
   "outputs": [],
   "source": [
    "#Rename columns to remove the space and make it shorter.\n",
    "data1.rename(columns = {'OLD # May 2018 Location Code':'LocationCode2018'}, inplace = True) \n",
    "data1.rename(columns = {'New # May 2019 Location Code':'LocationCode2019'}, inplace = True) \n",
    "data1.rename(columns = {'Annual pay':'AnnualPay'}, inplace = True) "
   ]
  },
  {
   "cell_type": "code",
   "execution_count": 30,
   "metadata": {},
   "outputs": [
    {
     "data": {
      "text/plain": [
       "array([1075., 5954., 5573., 5563., 5581., 5945., 5676., 5978., 5643.,\n",
       "       5077., 5963., 5648., 5493., 6501., 5669., 5655., 5678., 5932.,\n",
       "       5671., 5936.,   nan, 5417., 5199., 5944., 5586., 5970., 5126.,\n",
       "       5482., 5484., 5310., 5979., 5938., 5553., 5280., 5024., 5477.,\n",
       "       5683., 5951., 5931., 5964., 5906., 5056., 5269., 5680., 5935.,\n",
       "       5986., 5907., 5331., 5475., 5370., 5649., 5568., 5646., 5929.,\n",
       "       5677., 5473., 5657., 5990., 5476., 5983., 5972., 5930., 5682.,\n",
       "       5495., 5939., 5941., 5200., 5948., 5137., 5937., 5065., 5078.,\n",
       "       5015., 5301., 5974., 5940., 5966., 5681., 5658., 5560., 5478.,\n",
       "       5995., 5640., 5967., 5240., 5981., 5660., 5946., 5437., 5318.,\n",
       "       5565., 5174., 5580., 5999., 5494., 5962., 5481., 5644., 5564.,\n",
       "       5091., 5965., 5359., 5675., 5968., 5953., 5492., 5562., 5663.,\n",
       "       5574., 5567., 5992., 5168., 5109., 5998., 5361., 5020., 5673.,\n",
       "       5674., 5647., 5684., 5372., 5311., 5943., 5665., 5587., 5971.,\n",
       "       5052., 5991., 5653., 5048., 5556., 5933., 5989., 5085., 5486.,\n",
       "       5575., 5265., 5306., 5666., 5409., 5377., 5949., 5490., 5996.,\n",
       "       5220., 5942., 5120., 5208., 5428., 5668., 5585., 5212., 5485.,\n",
       "       5642., 5651., 5480., 5973., 5566., 5993., 5670., 5491., 5552.,\n",
       "       5145., 5378., 5606., 5427., 5021., 5474., 5956., 5032., 5982.,\n",
       "       5479., 5583., 5154., 5124., 5977., 5244., 5955., 5418., 5928.,\n",
       "       5952., 5662., 5650., 5988., 5626., 5961., 5987., 5404., 5969.,\n",
       "       5086., 5679., 5497., 5151., 5960., 5672., 5950., 5255., 5166.,\n",
       "       5664., 5661., 5997., 5975., 5559., 5195., 5483., 5555., 5415.,\n",
       "       5554., 5047., 5167., 5645., 5388., 5984., 5045., 5042., 5652.,\n",
       "       5185., 5558., 5572., 5980., 5569., 5038., 5659., 5571., 5959.,\n",
       "       5957., 5498., 5656., 5667., 5271., 5489., 5488., 5570., 5136.,\n",
       "       5023., 5976., 5602., 5281., 5203., 5487., 5934., 5435., 5584.,\n",
       "       5654., 5947., 5254., 5433., 5641., 5576., 5146., 5320., 5557.,\n",
       "       5985., 5051., 5022., 5496., 5072., 5994., 5561., 5551.])"
      ]
     },
     "execution_count": 30,
     "metadata": {},
     "output_type": "execute_result"
    }
   ],
   "source": [
    "TestLocationCodes=data1.LocationCode2019.unique()\n",
    "TestLocationCodes"
   ]
  },
  {
   "cell_type": "code",
   "execution_count": 31,
   "metadata": {},
   "outputs": [],
   "source": [
    "#Load the 2018 May dataset.\n",
    "#Read Excel data provided. Read the first tab.\n",
    "current_path = os.getcwd()\n",
    "file2 = '/datasets/ActivatedInsights/ActivatedInsight.xlsx'\n",
    "data2 = pd.read_excel(current_path + file2)\n",
    "\n",
    "#First two rows are excel column names that only exists for some columns. Remove them for now.\n",
    "#Also some of the last few rows have no data in most columns.\n",
    "data2 = data2.iloc[2:-13]\n",
    "#LocationCode will contain the column for the location code for this study use the May 2019 code\n",
    "LocationCode_for_data = data2.iloc[:,2]"
   ]
  },
  {
   "cell_type": "code",
   "execution_count": 32,
   "metadata": {},
   "outputs": [],
   "source": [
    "#get median pay for each location. Go through the location code and get the data\n",
    "#Ignore NaN (be default)\n",
    "#DataArrayPCA_answers_df=pd.DataFrame(data=DataArrayPCA_answers)\n",
    "\n",
    "#\n",
    "location_pay = np.zeros((LocationCode_for_data.shape[0],1))\n",
    "\n",
    "#Get the data for each location, calculate the median pay for that location\n",
    "for index in range(LocationCode_for_data.shape[0]):\n",
    "    location_data=data1.loc[data1['LocationCode2019'] == LocationCode_for_data.iloc[index],'AnnualPay']\n",
    "    #calculate the media for that location\n",
    "    location_pay[index] = location_data.median()\n",
    "location_pay = pd.DataFrame(data=location_pay)"
   ]
  },
  {
   "cell_type": "code",
   "execution_count": 33,
   "metadata": {},
   "outputs": [
    {
     "data": {
      "text/plain": [
       "array([[<matplotlib.axes._subplots.AxesSubplot object at 0x7f98dc37d550>]],\n",
       "      dtype=object)"
      ]
     },
     "execution_count": 33,
     "metadata": {},
     "output_type": "execute_result"
    },
    {
     "data": {
      "image/png": "[encoded data removed]",
      "text/plain": [
       "<Figure size 432x288 with 1 Axes>"
      ]
     },
     "metadata": {
      "needs_background": "light"
     },
     "output_type": "display_data"
    }
   ],
   "source": [
    "#We may not need log transform for this data.\n",
    "location_pay.hist()"
   ]
  },
  {
   "cell_type": "code",
   "execution_count": 34,
   "metadata": {},
   "outputs": [
    {
     "data": {
      "text/plain": [
       "0"
      ]
     },
     "execution_count": 34,
     "metadata": {},
     "output_type": "execute_result"
    }
   ],
   "source": [
    "location_pay.isnull().values.sum()"
   ]
  },
  {
   "cell_type": "code",
   "execution_count": 35,
   "metadata": {
    "scrolled": true
   },
   "outputs": [
    {
     "data": {
      "text/plain": [
       "array([[<matplotlib.axes._subplots.AxesSubplot object at 0x7f98d82bcac8>]],\n",
       "      dtype=object)"
      ]
     },
     "execution_count": 35,
     "metadata": {},
     "output_type": "execute_result"
    },
    {
     "data": {
      "image/png": "[encoded data removed]",
      "text/plain": [
       "<Figure size 432x288 with 1 Axes>"
      ]
     },
     "metadata": {
      "needs_background": "light"
     },
     "output_type": "display_data"
    }
   ],
   "source": [
    "#Scale and standardize\n",
    "scaler_location_pay = pp.StandardScaler().fit(location_pay)\n",
    "location_payS = scaler_location_pay.transform(location_pay)\n",
    "location_payS_df=pd.DataFrame(data=location_payS)\n",
    "location_payS_df.hist()"
   ]
  },
  {
   "cell_type": "code",
   "execution_count": 36,
   "metadata": {},
   "outputs": [],
   "source": [
    "location_payS_df.to_pickle(\"./location_pay.pkl\")"
   ]
  }
 ],
 "metadata": {
  "anaconda-cloud": {},
  "kernelspec": {
   "display_name": "Python 3",
   "language": "python",
   "name": "python3"
  },
  "language_info": {
   "codemirror_mode": {
    "name": "ipython",
    "version": 3
   },
   "file_extension": ".py",
   "mimetype": "text/x-python",
   "name": "python",
   "nbconvert_exporter": "python",
   "pygments_lexer": "ipython3",
   "version": "3.6.10"
  }
 },
 "nbformat": 4,
 "nbformat_minor": 2
}
