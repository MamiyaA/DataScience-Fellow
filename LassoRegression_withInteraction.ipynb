{
 "cells": [
  {
   "cell_type": "code",
   "execution_count": 1,
   "metadata": {},
   "outputs": [],
   "source": [
    "import numpy as np\n",
    "import pandas as pd\n",
    "import os\n",
    "\n",
    "\n",
    "import matplotlib.pyplot as plt\n",
    "import seaborn as sb\n",
    "sb.set()\n",
    "color = sb.color_palette()\n",
    "import matplotlib as mpl\n",
    "\n",
    "%matplotlib inline\n",
    "\n",
    "import pickle\n",
    "\n",
    "from sklearn import preprocessing as pp \n",
    "#import the entire linear model\n",
    "from sklearn import linear_model\n",
    "from sklearn.linear_model import Lasso\n",
    "from sklearn.model_selection import train_test_split\n",
    "from sklearn.metrics import r2_score\n",
    "from scipy.stats import pearsonr \n",
    "from sklearn.decomposition import PCA\n",
    "from sklearn.linear_model import LassoCV\n",
    "#from sklearn.preprocessing import PolynomialFeatures\n",
    "\n",
    "from scipy.stats import wilcoxon"
   ]
  },
  {
   "cell_type": "code",
   "execution_count": 2,
   "metadata": {},
   "outputs": [],
   "source": [
    "feature_set = pd.read_pickle(\"./feature_set.pkl\")\n",
    "turnOverRate = pd.read_pickle(\"./turnOverRate.pkl\")\n",
    "LocationCodeComprehensive = pd.read_pickle(\"./LocationCodeComprehensive.pkl\")\n",
    "location_pay = pd.read_pickle(\"./location_pay.pkl\")\n",
    "location_sd = pd.read_pickle(\"./location_sdS_df.pkl\")"
   ]
  },
  {
   "cell_type": "code",
   "execution_count": 3,
   "metadata": {},
   "outputs": [
    {
     "data": {
      "text/plain": [
       "0      5015\n",
       "1      5020\n",
       "2      5021\n",
       "3      5022\n",
       "4      5023\n",
       "       ... \n",
       "252    5946\n",
       "253    5947\n",
       "254    5948\n",
       "255    5906\n",
       "256    5907\n",
       "Length: 257, dtype: int64"
      ]
     },
     "execution_count": 3,
     "metadata": {},
     "output_type": "execute_result"
    }
   ],
   "source": [
    "LocationCodeComprehensive.rename(columns = {'Unnamed: 2':'location code'}, inplace = True) \n"
   ]
  },
  {
   "cell_type": "code",
   "execution_count": 4,
   "metadata": {},
   "outputs": [
    {
     "data": {
      "text/html": [
       "<div>\n",
       "<style scoped>\n",
       "    .dataframe tbody tr th:only-of-type {\n",
       "        vertical-align: middle;\n",
       "    }\n",
       "\n",
       "    .dataframe tbody tr th {\n",
       "        vertical-align: top;\n",
       "    }\n",
       "\n",
       "    .dataframe thead th {\n",
       "        text-align: right;\n",
       "    }\n",
       "</style>\n",
       "<table border=\"1\" class=\"dataframe\">\n",
       "  <thead>\n",
       "    <tr style=\"text-align: right;\">\n",
       "      <th></th>\n",
       "      <th>0</th>\n",
       "      <th>1</th>\n",
       "      <th>2</th>\n",
       "      <th>3</th>\n",
       "      <th>4</th>\n",
       "      <th>5</th>\n",
       "      <th>6</th>\n",
       "      <th>7</th>\n",
       "      <th>8</th>\n",
       "      <th>9</th>\n",
       "      <th>...</th>\n",
       "      <th>2268</th>\n",
       "      <th>2269</th>\n",
       "      <th>2270</th>\n",
       "      <th>2271</th>\n",
       "      <th>2272</th>\n",
       "      <th>2273</th>\n",
       "      <th>2274</th>\n",
       "      <th>2275</th>\n",
       "      <th>2276</th>\n",
       "      <th>2277</th>\n",
       "    </tr>\n",
       "  </thead>\n",
       "  <tbody>\n",
       "    <tr>\n",
       "      <th>0</th>\n",
       "      <td>1.496637</td>\n",
       "      <td>0.084248</td>\n",
       "      <td>0.138599</td>\n",
       "      <td>0.220066</td>\n",
       "      <td>1.221343</td>\n",
       "      <td>1.139475</td>\n",
       "      <td>1.125294</td>\n",
       "      <td>0.994916</td>\n",
       "      <td>0.274221</td>\n",
       "      <td>1.229335</td>\n",
       "      <td>...</td>\n",
       "      <td>-1.244796</td>\n",
       "      <td>1.076369</td>\n",
       "      <td>-0.684921</td>\n",
       "      <td>0.604777</td>\n",
       "      <td>-0.961780</td>\n",
       "      <td>0.612005</td>\n",
       "      <td>-0.540393</td>\n",
       "      <td>-0.529198</td>\n",
       "      <td>0.467275</td>\n",
       "      <td>-0.297339</td>\n",
       "    </tr>\n",
       "    <tr>\n",
       "      <th>1</th>\n",
       "      <td>-0.549661</td>\n",
       "      <td>-0.119342</td>\n",
       "      <td>-1.306784</td>\n",
       "      <td>-0.972549</td>\n",
       "      <td>-1.140865</td>\n",
       "      <td>-1.123760</td>\n",
       "      <td>-1.501034</td>\n",
       "      <td>-1.556083</td>\n",
       "      <td>-0.941953</td>\n",
       "      <td>-0.617944</td>\n",
       "      <td>...</td>\n",
       "      <td>1.569697</td>\n",
       "      <td>0.607361</td>\n",
       "      <td>0.814480</td>\n",
       "      <td>-0.905170</td>\n",
       "      <td>0.872752</td>\n",
       "      <td>1.170375</td>\n",
       "      <td>-1.300692</td>\n",
       "      <td>0.452851</td>\n",
       "      <td>-0.503275</td>\n",
       "      <td>-0.674900</td>\n",
       "    </tr>\n",
       "    <tr>\n",
       "      <th>2</th>\n",
       "      <td>0.577287</td>\n",
       "      <td>-0.276289</td>\n",
       "      <td>-0.402631</td>\n",
       "      <td>0.241940</td>\n",
       "      <td>-0.454408</td>\n",
       "      <td>-0.379317</td>\n",
       "      <td>-0.944135</td>\n",
       "      <td>-0.203789</td>\n",
       "      <td>-0.442965</td>\n",
       "      <td>-0.625386</td>\n",
       "      <td>...</td>\n",
       "      <td>0.405405</td>\n",
       "      <td>-0.525482</td>\n",
       "      <td>0.104186</td>\n",
       "      <td>-0.585362</td>\n",
       "      <td>-0.354012</td>\n",
       "      <td>0.070189</td>\n",
       "      <td>-0.394353</td>\n",
       "      <td>-0.090979</td>\n",
       "      <td>0.511157</td>\n",
       "      <td>-0.101346</td>\n",
       "    </tr>\n",
       "    <tr>\n",
       "      <th>3</th>\n",
       "      <td>-0.482090</td>\n",
       "      <td>-0.893064</td>\n",
       "      <td>0.082008</td>\n",
       "      <td>0.163632</td>\n",
       "      <td>1.103529</td>\n",
       "      <td>0.281656</td>\n",
       "      <td>0.264472</td>\n",
       "      <td>0.419771</td>\n",
       "      <td>0.451285</td>\n",
       "      <td>-0.343488</td>\n",
       "      <td>...</td>\n",
       "      <td>-0.106702</td>\n",
       "      <td>-0.063108</td>\n",
       "      <td>-0.064710</td>\n",
       "      <td>-0.209771</td>\n",
       "      <td>0.571254</td>\n",
       "      <td>0.585751</td>\n",
       "      <td>1.898836</td>\n",
       "      <td>0.346439</td>\n",
       "      <td>1.123058</td>\n",
       "      <td>1.151557</td>\n",
       "    </tr>\n",
       "    <tr>\n",
       "      <th>4</th>\n",
       "      <td>-0.994165</td>\n",
       "      <td>-1.591461</td>\n",
       "      <td>-0.656436</td>\n",
       "      <td>0.042593</td>\n",
       "      <td>-0.060927</td>\n",
       "      <td>-0.986578</td>\n",
       "      <td>-1.008201</td>\n",
       "      <td>-0.564969</td>\n",
       "      <td>-0.913683</td>\n",
       "      <td>-0.538270</td>\n",
       "      <td>...</td>\n",
       "      <td>-0.069755</td>\n",
       "      <td>0.002773</td>\n",
       "      <td>-0.052163</td>\n",
       "      <td>0.002675</td>\n",
       "      <td>-0.003844</td>\n",
       "      <td>0.072313</td>\n",
       "      <td>-0.003708</td>\n",
       "      <td>-0.002874</td>\n",
       "      <td>0.000147</td>\n",
       "      <td>-0.002773</td>\n",
       "    </tr>\n",
       "  </tbody>\n",
       "</table>\n",
       "<p>5 rows × 2278 columns</p>\n",
       "</div>"
      ],
      "text/plain": [
       "       0         1         2         3         4         5         6     \\\n",
       "0  1.496637  0.084248  0.138599  0.220066  1.221343  1.139475  1.125294   \n",
       "1 -0.549661 -0.119342 -1.306784 -0.972549 -1.140865 -1.123760 -1.501034   \n",
       "2  0.577287 -0.276289 -0.402631  0.241940 -0.454408 -0.379317 -0.944135   \n",
       "3 -0.482090 -0.893064  0.082008  0.163632  1.103529  0.281656  0.264472   \n",
       "4 -0.994165 -1.591461 -0.656436  0.042593 -0.060927 -0.986578 -1.008201   \n",
       "\n",
       "       7         8         9     ...      2268      2269      2270      2271  \\\n",
       "0  0.994916  0.274221  1.229335  ... -1.244796  1.076369 -0.684921  0.604777   \n",
       "1 -1.556083 -0.941953 -0.617944  ...  1.569697  0.607361  0.814480 -0.905170   \n",
       "2 -0.203789 -0.442965 -0.625386  ...  0.405405 -0.525482  0.104186 -0.585362   \n",
       "3  0.419771  0.451285 -0.343488  ... -0.106702 -0.063108 -0.064710 -0.209771   \n",
       "4 -0.564969 -0.913683 -0.538270  ... -0.069755  0.002773 -0.052163  0.002675   \n",
       "\n",
       "       2272      2273      2274      2275      2276      2277  \n",
       "0 -0.961780  0.612005 -0.540393 -0.529198  0.467275 -0.297339  \n",
       "1  0.872752  1.170375 -1.300692  0.452851 -0.503275 -0.674900  \n",
       "2 -0.354012  0.070189 -0.394353 -0.090979  0.511157 -0.101346  \n",
       "3  0.571254  0.585751  1.898836  0.346439  1.123058  1.151557  \n",
       "4 -0.003844  0.072313 -0.003708 -0.002874  0.000147 -0.002773  \n",
       "\n",
       "[5 rows x 2278 columns]"
      ]
     },
     "execution_count": 4,
     "metadata": {},
     "output_type": "execute_result"
    }
   ],
   "source": [
    "all_features = pd.concat([feature_set,location_pay,location_sd], axis = 1)\n",
    "\n",
    "\n",
    "poly = pp.PolynomialFeatures(interaction_only=True,include_bias = False)\n",
    "all_features_interaction=poly.fit_transform(all_features)\n",
    "all_features_interaction=pd.DataFrame(data=all_features_interaction)\n",
    "all_features_interaction.head()"
   ]
  },
  {
   "cell_type": "code",
   "execution_count": 8,
   "metadata": {},
   "outputs": [],
   "source": [
    "\n",
    "XCV_train, XCV_test, YCV_train, YCV_test = train_test_split(xCV, yCV, test_size=0.2)\n",
    "\n",
    "reg = LassoCV(cv=5, max_iter = 5000).fit(XCV_train, YCV_train)\n",
    "\n",
    "YpredLassoCV2 = reg.predict(XCV_test)\n",
    "test_r_squared2 = r2_score(YCV_test, YpredLassoCV2)"
   ]
  },
  {
   "cell_type": "code",
   "execution_count": 9,
   "metadata": {},
   "outputs": [
    {
     "data": {
      "text/plain": [
       "-0.005576188808204874"
      ]
     },
     "execution_count": 9,
     "metadata": {},
     "output_type": "execute_result"
    }
   ],
   "source": [
    "test_r_squared2"
   ]
  },
  {
   "cell_type": "code",
   "execution_count": 10,
   "metadata": {},
   "outputs": [
    {
     "name": "stderr",
     "output_type": "stream",
     "text": [
      "/home/akira/anaconda3/envs/unsupervisedLearning/lib/python3.6/site-packages/sklearn/linear_model/_coordinate_descent.py:476: ConvergenceWarning: Objective did not converge. You might want to increase the number of iterations. Duality gap: 0.01589966003058707, tolerance: 0.015503297942400502\n",
      "  positive)\n",
      "/home/akira/anaconda3/envs/unsupervisedLearning/lib/python3.6/site-packages/sklearn/linear_model/_coordinate_descent.py:476: ConvergenceWarning: Objective did not converge. You might want to increase the number of iterations. Duality gap: 0.021924468450186363, tolerance: 0.017902453002246285\n",
      "  positive)\n",
      "/home/akira/anaconda3/envs/unsupervisedLearning/lib/python3.6/site-packages/sklearn/linear_model/_coordinate_descent.py:476: ConvergenceWarning: Objective did not converge. You might want to increase the number of iterations. Duality gap: 0.019854360871348842, tolerance: 0.016469981678627375\n",
      "  positive)\n",
      "/home/akira/anaconda3/envs/unsupervisedLearning/lib/python3.6/site-packages/sklearn/linear_model/_coordinate_descent.py:476: ConvergenceWarning: Objective did not converge. You might want to increase the number of iterations. Duality gap: 0.022092264129845662, tolerance: 0.017658948057819927\n",
      "  positive)\n",
      "/home/akira/anaconda3/envs/unsupervisedLearning/lib/python3.6/site-packages/sklearn/linear_model/_coordinate_descent.py:476: ConvergenceWarning: Objective did not converge. You might want to increase the number of iterations. Duality gap: 0.022648308097707126, tolerance: 0.0162276693478065\n",
      "  positive)\n",
      "/home/akira/anaconda3/envs/unsupervisedLearning/lib/python3.6/site-packages/sklearn/linear_model/_coordinate_descent.py:476: ConvergenceWarning: Objective did not converge. You might want to increase the number of iterations. Duality gap: 0.02096270906546327, tolerance: 0.0162276693478065\n",
      "  positive)\n",
      "/home/akira/anaconda3/envs/unsupervisedLearning/lib/python3.6/site-packages/sklearn/linear_model/_coordinate_descent.py:476: ConvergenceWarning: Objective did not converge. You might want to increase the number of iterations. Duality gap: 0.019844708111470766, tolerance: 0.014189426426457838\n",
      "  positive)\n",
      "/home/akira/anaconda3/envs/unsupervisedLearning/lib/python3.6/site-packages/sklearn/linear_model/_coordinate_descent.py:476: ConvergenceWarning: Objective did not converge. You might want to increase the number of iterations. Duality gap: 0.015937409343401265, tolerance: 0.014189426426457838\n",
      "  positive)\n",
      "/home/akira/anaconda3/envs/unsupervisedLearning/lib/python3.6/site-packages/sklearn/linear_model/_coordinate_descent.py:476: ConvergenceWarning: Objective did not converge. You might want to increase the number of iterations. Duality gap: 0.0186674556181039, tolerance: 0.018123998137960663\n",
      "  positive)\n",
      "/home/akira/anaconda3/envs/unsupervisedLearning/lib/python3.6/site-packages/sklearn/linear_model/_coordinate_descent.py:476: ConvergenceWarning: Objective did not converge. You might want to increase the number of iterations. Duality gap: 0.019838142926766555, tolerance: 0.018123998137960663\n",
      "  positive)\n",
      "/home/akira/anaconda3/envs/unsupervisedLearning/lib/python3.6/site-packages/sklearn/linear_model/_coordinate_descent.py:476: ConvergenceWarning: Objective did not converge. You might want to increase the number of iterations. Duality gap: 0.017996401649527427, tolerance: 0.01697760761867041\n",
      "  positive)\n",
      "/home/akira/anaconda3/envs/unsupervisedLearning/lib/python3.6/site-packages/sklearn/linear_model/_coordinate_descent.py:476: ConvergenceWarning: Objective did not converge. You might want to increase the number of iterations. Duality gap: 0.0182254757775151, tolerance: 0.017416971842239524\n",
      "  positive)\n",
      "/home/akira/anaconda3/envs/unsupervisedLearning/lib/python3.6/site-packages/sklearn/linear_model/_coordinate_descent.py:476: ConvergenceWarning: Objective did not converge. You might want to increase the number of iterations. Duality gap: 0.025440669199157995, tolerance: 0.01825281146340277\n",
      "  positive)\n",
      "/home/akira/anaconda3/envs/unsupervisedLearning/lib/python3.6/site-packages/sklearn/linear_model/_coordinate_descent.py:476: ConvergenceWarning: Objective did not converge. You might want to increase the number of iterations. Duality gap: 0.0177405971947433, tolerance: 0.016834257829570022\n",
      "  positive)\n",
      "/home/akira/anaconda3/envs/unsupervisedLearning/lib/python3.6/site-packages/sklearn/linear_model/_coordinate_descent.py:476: ConvergenceWarning: Objective did not converge. You might want to increase the number of iterations. Duality gap: 0.02185443394948583, tolerance: 0.01619711792316609\n",
      "  positive)\n",
      "/home/akira/anaconda3/envs/unsupervisedLearning/lib/python3.6/site-packages/sklearn/linear_model/_coordinate_descent.py:476: ConvergenceWarning: Objective did not converge. You might want to increase the number of iterations. Duality gap: 0.025865779013414025, tolerance: 0.015973819191583867\n",
      "  positive)\n",
      "/home/akira/anaconda3/envs/unsupervisedLearning/lib/python3.6/site-packages/sklearn/linear_model/_coordinate_descent.py:476: ConvergenceWarning: Objective did not converge. You might want to increase the number of iterations. Duality gap: 0.01755383220729989, tolerance: 0.016126162706942546\n",
      "  positive)\n",
      "/home/akira/anaconda3/envs/unsupervisedLearning/lib/python3.6/site-packages/sklearn/linear_model/_coordinate_descent.py:476: ConvergenceWarning: Objective did not converge. You might want to increase the number of iterations. Duality gap: 0.025078464937892786, tolerance: 0.016126162706942546\n",
      "  positive)\n",
      "/home/akira/anaconda3/envs/unsupervisedLearning/lib/python3.6/site-packages/sklearn/linear_model/_coordinate_descent.py:476: ConvergenceWarning: Objective did not converge. You might want to increase the number of iterations. Duality gap: 0.01991292858952315, tolerance: 0.01707507368771651\n",
      "  positive)\n",
      "/home/akira/anaconda3/envs/unsupervisedLearning/lib/python3.6/site-packages/sklearn/linear_model/_coordinate_descent.py:476: ConvergenceWarning: Objective did not converge. You might want to increase the number of iterations. Duality gap: 0.019080310078666507, tolerance: 0.016201551967609765\n",
      "  positive)\n",
      "/home/akira/anaconda3/envs/unsupervisedLearning/lib/python3.6/site-packages/sklearn/linear_model/_coordinate_descent.py:476: ConvergenceWarning: Objective did not converge. You might want to increase the number of iterations. Duality gap: 0.019349049187821432, tolerance: 0.01659465797249663\n",
      "  positive)\n",
      "/home/akira/anaconda3/envs/unsupervisedLearning/lib/python3.6/site-packages/sklearn/linear_model/_coordinate_descent.py:476: ConvergenceWarning: Objective did not converge. You might want to increase the number of iterations. Duality gap: 0.01736093433294328, tolerance: 0.01659465797249663\n",
      "  positive)\n",
      "/home/akira/anaconda3/envs/unsupervisedLearning/lib/python3.6/site-packages/sklearn/linear_model/_coordinate_descent.py:476: ConvergenceWarning: Objective did not converge. You might want to increase the number of iterations. Duality gap: 0.018431100002887404, tolerance: 0.017040668330655238\n",
      "  positive)\n",
      "/home/akira/anaconda3/envs/unsupervisedLearning/lib/python3.6/site-packages/sklearn/linear_model/_coordinate_descent.py:476: ConvergenceWarning: Objective did not converge. You might want to increase the number of iterations. Duality gap: 0.01649471591292516, tolerance: 0.015816048439408856\n",
      "  positive)\n",
      "/home/akira/anaconda3/envs/unsupervisedLearning/lib/python3.6/site-packages/sklearn/linear_model/_coordinate_descent.py:476: ConvergenceWarning: Objective did not converge. You might want to increase the number of iterations. Duality gap: 0.02407073362823442, tolerance: 0.0176074783331806\n",
      "  positive)\n",
      "/home/akira/anaconda3/envs/unsupervisedLearning/lib/python3.6/site-packages/sklearn/linear_model/_coordinate_descent.py:476: ConvergenceWarning: Objective did not converge. You might want to increase the number of iterations. Duality gap: 0.021569347769297087, tolerance: 0.017234318379969433\n",
      "  positive)\n",
      "/home/akira/anaconda3/envs/unsupervisedLearning/lib/python3.6/site-packages/sklearn/linear_model/_coordinate_descent.py:476: ConvergenceWarning: Objective did not converge. You might want to increase the number of iterations. Duality gap: 0.018346898529823352, tolerance: 0.017234318379969433\n",
      "  positive)\n"
     ]
    },
    {
     "name": "stderr",
     "output_type": "stream",
     "text": [
      "/home/akira/anaconda3/envs/unsupervisedLearning/lib/python3.6/site-packages/sklearn/linear_model/_coordinate_descent.py:476: ConvergenceWarning: Objective did not converge. You might want to increase the number of iterations. Duality gap: 0.021628999973794555, tolerance: 0.01568154768714451\n",
      "  positive)\n",
      "/home/akira/anaconda3/envs/unsupervisedLearning/lib/python3.6/site-packages/sklearn/linear_model/_coordinate_descent.py:476: ConvergenceWarning: Objective did not converge. You might want to increase the number of iterations. Duality gap: 0.015997286267929733, tolerance: 0.014174070621682194\n",
      "  positive)\n",
      "/home/akira/anaconda3/envs/unsupervisedLearning/lib/python3.6/site-packages/sklearn/linear_model/_coordinate_descent.py:476: ConvergenceWarning: Objective did not converge. You might want to increase the number of iterations. Duality gap: 0.01910190600897199, tolerance: 0.017036830847278014\n",
      "  positive)\n",
      "/home/akira/anaconda3/envs/unsupervisedLearning/lib/python3.6/site-packages/sklearn/linear_model/_coordinate_descent.py:476: ConvergenceWarning: Objective did not converge. You might want to increase the number of iterations. Duality gap: 0.017858073427351157, tolerance: 0.017328943806471896\n",
      "  positive)\n",
      "/home/akira/anaconda3/envs/unsupervisedLearning/lib/python3.6/site-packages/sklearn/linear_model/_coordinate_descent.py:476: ConvergenceWarning: Objective did not converge. You might want to increase the number of iterations. Duality gap: 0.016372535067002758, tolerance: 0.014692537279637716\n",
      "  positive)\n",
      "/home/akira/anaconda3/envs/unsupervisedLearning/lib/python3.6/site-packages/sklearn/linear_model/_coordinate_descent.py:476: ConvergenceWarning: Objective did not converge. You might want to increase the number of iterations. Duality gap: 0.01774507402669212, tolerance: 0.016422669401691587\n",
      "  positive)\n"
     ]
    }
   ],
   "source": [
    "# Try running the cross validation Lasso for different train test split and get the\n",
    "#mean r-squared, alpha, and weights.\n",
    "\n",
    "\n",
    "xCV = all_features_interaction\n",
    "yCV = turnOverRate #Turn over\n",
    "\n",
    "train_number = 200\n",
    "#Run this part for 1000 times and get the values for r-squared, alpha, and the weights.\n",
    "#reg.alpha_, reg.coef_, r2score.\n",
    "\n",
    "#initialize\n",
    "test_r_squared = np.zeros((train_number,1))\n",
    "lasso_alpha = np.zeros((train_number,1))\n",
    "lasso_coef = np.zeros((train_number,all_features_interaction.shape[1]))\n",
    "\n",
    "for trialNo in range(train_number):\n",
    "    \n",
    "    #split 80-20\n",
    "    XCV_train, XCV_test, YCV_train, YCV_test = train_test_split(xCV, yCV, test_size=0.2)\n",
    "\n",
    "    reg = LassoCV(cv=5, max_iter = 5000).fit(XCV_train, YCV_train)\n",
    "\n",
    "    YpredLassoCV = reg.predict(XCV_test)\n",
    "    test_r_squared[trialNo] = r2_score(YCV_test, YpredLassoCV)\n",
    "    lasso_alpha[trialNo] = reg.alpha_\n",
    "    lasso_coef[trialNo,:] = reg.coef_ \n",
    "    #print(\"r^2 on test data : %f\" % r2ScoreLassoCV)\n",
    "\n",
    "    #ActualPredictionCV = pd.DataFrame({'Actual': YCV_test, 'Predicted': YpredLassoCV})\n",
    "\n",
    "    #sb.lmplot(x='Predicted', y='Actual', data=ActualPredictionCV)\n",
    "with open('lasso_interaction_output.pickle', 'wb') as f:\n",
    "    pickle.dump([test_r_squared, lasso_alpha, lasso_coef], f)"
   ]
  },
  {
   "cell_type": "code",
   "execution_count": 6,
   "metadata": {},
   "outputs": [],
   "source": []
  },
  {
   "cell_type": "code",
   "execution_count": 11,
   "metadata": {},
   "outputs": [
    {
     "data": {
      "image/png": "[encoded data removed]",
      "text/plain": [
       "<Figure size 432x288 with 1 Axes>"
      ]
     },
     "metadata": {
      "needs_background": "light"
     },
     "output_type": "display_data"
    }
   ],
   "source": [
    "test_r_squared_df=pd.DataFrame(data=test_r_squared)\n",
    "test_r_squared_df.rename(columns = {0:'coefficient of determination'}, inplace = True) \n",
    "\n",
    "sb.distplot(test_r_squared_df,axlabel='coefficent of determination')\n",
    "sb.despine()"
   ]
  },
  {
   "cell_type": "code",
   "execution_count": 9,
   "metadata": {},
   "outputs": [],
   "source": [
    "\n",
    "#with open('lasso_output.pickle', 'wb') as f:\n",
    "#    pickle.dump([test_r_squared, lasso_alpha, lasso_coef], f)"
   ]
  },
  {
   "cell_type": "code",
   "execution_count": 4,
   "metadata": {},
   "outputs": [],
   "source": [
    "# Getting back the objects:\n",
    "with open('lasso_output.pickle', 'rb') as f:  \n",
    "    test_r_squared, lasso_alpha, lasso_coef = pickle.load(f)\n",
    "\n",
    "with open('original_values.pickle', 'rb') as f:  \n",
    "    TurnOver2, dataX2 = pickle.load(f)\n"
   ]
  },
  {
   "cell_type": "code",
   "execution_count": 47,
   "metadata": {
    "scrolled": true
   },
   "outputs": [
    {
     "data": {
      "image/png": "[encoded data removed]",
      "text/plain": [
       "<Figure size 432x288 with 1 Axes>"
      ]
     },
     "metadata": {
      "needs_background": "light"
     },
     "output_type": "display_data"
    }
   ],
   "source": [
    "\n",
    "test_r_squared_df=pd.DataFrame(data=test_r_squared)\n",
    "test_r_squared_df.rename(columns = {0:'coefficient of determination'}, inplace = True) \n",
    "\n",
    "sb.distplot(test_r_squared_df,axlabel='coefficent of determination')\n",
    "sb.despine()"
   ]
  },
  {
   "cell_type": "code",
   "execution_count": null,
   "metadata": {},
   "outputs": [],
   "source": []
  },
  {
   "cell_type": "code",
   "execution_count": 6,
   "metadata": {},
   "outputs": [
    {
     "name": "stdout",
     "output_type": "stream",
     "text": [
      "[1.52570745e-57]\n"
     ]
    }
   ],
   "source": [
    "#One sample t-test to show the significance.\n",
    "from scipy.stats import ttest_1samp\n",
    "\n",
    "tset, pval = ttest_1samp(test_r_squared, 0)\n",
    "print(pval)\n"
   ]
  },
  {
   "cell_type": "code",
   "execution_count": null,
   "metadata": {},
   "outputs": [],
   "source": []
  },
  {
   "cell_type": "code",
   "execution_count": 7,
   "metadata": {},
   "outputs": [
    {
     "name": "stdout",
     "output_type": "stream",
     "text": [
      "3.51059490731279e-61\n"
     ]
    }
   ],
   "source": [
    "sum_ranks, pval_w = wilcoxon(test_r_squared[:,0])\n",
    "print(pval_w)"
   ]
  },
  {
   "cell_type": "code",
   "execution_count": 8,
   "metadata": {},
   "outputs": [
    {
     "data": {
      "image/png": "[encoded data removed]",
      "text/plain": [
       "<Figure size 432x288 with 1 Axes>"
      ]
     },
     "metadata": {
      "needs_background": "light"
     },
     "output_type": "display_data"
    }
   ],
   "source": [
    "lasso_alpha_df = pd.DataFrame(data=lasso_alpha)\n",
    "lasso_coef_df = pd.DataFrame(data=lasso_coef)\n",
    "\n",
    "sb.distplot(lasso_alpha_df)\n",
    "sb.despine()"
   ]
  },
  {
   "cell_type": "code",
   "execution_count": 9,
   "metadata": {},
   "outputs": [],
   "source": [
    "mean_coef=lasso_coef_df.mean()\n"
   ]
  },
  {
   "cell_type": "code",
   "execution_count": 54,
   "metadata": {},
   "outputs": [
    {
     "data": {
      "text/plain": [
       "Text(0.5, 1.0, 'average weight for each feature')"
      ]
     },
     "execution_count": 54,
     "metadata": {},
     "output_type": "execute_result"
    },
    {
     "data": {
      "image/png": "[encoded data removed]",
      "text/plain": [
       "<Figure size 432x288 with 1 Axes>"
      ]
     },
     "metadata": {
      "needs_background": "light"
     },
     "output_type": "display_data"
    }
   ],
   "source": [
    "\n",
    "plt.plot(mean_coef,linestyle='none',marker='o',markersize=8,color='red') \n",
    "plt.xlabel('feature number')\n",
    "#plt.ylabel('average weight for each feature')\n",
    "plt.title('average weight for each feature')"
   ]
  },
  {
   "cell_type": "code",
   "execution_count": 17,
   "metadata": {},
   "outputs": [],
   "source": [
    "feature_set.to_pickle(\"./feature_set.pkl\")\n",
    "\n",
    "lasso_r_squared_1000 = pd.DataFrame(data=test_r_squared)\n",
    "lasso_alpha_1000 = pd.DataFrame(data=lasso_alpha)\n",
    "lasso_coef_1000 = pd.DataFrame(data=lasso_coef)\n",
    "\n",
    "lasso_r_squared_1000.to_pickle(\"./lasso_r_squared_1000.pkl\")\n",
    "lasso_alpha_1000.to_pickle(\"./lasso_alpha_1000.pkl\")\n",
    "lasso_coef_1000.to_pickle(\"./lasso_coef_1000.pkl\")\n",
    "\n"
   ]
  },
  {
   "cell_type": "code",
   "execution_count": 11,
   "metadata": {},
   "outputs": [],
   "source": [
    "feature_set = pd.read_pickle(\"./feature_set.pkl\")\n",
    "\n",
    "lasso_r_squared_df = pd.read_pickle(\"./lasso_r_squared_1000.pkl\")\n",
    "lasso_alpha_df = pd.read_pickle(\"./lasso_alpha_1000.pkl\")\n",
    "lasso_coef_df = pd.read_pickle(\"./lasso_coef_1000.pkl\")\n",
    "\n"
   ]
  },
  {
   "cell_type": "code",
   "execution_count": 12,
   "metadata": {},
   "outputs": [],
   "source": [
    "abs_mean_coef=abs(mean_coef)"
   ]
  },
  {
   "cell_type": "code",
   "execution_count": 13,
   "metadata": {},
   "outputs": [
    {
     "data": {
      "text/plain": [
       "55    0.157820\n",
       "62    0.127956\n",
       "21    0.086186\n",
       "64    0.075024\n",
       "24    0.042282\n",
       "22    0.027030\n",
       "66    0.020481\n",
       "50    0.011860\n",
       "51    0.010044\n",
       "19    0.008916\n",
       "dtype: float64"
      ]
     },
     "execution_count": 13,
     "metadata": {},
     "output_type": "execute_result"
    }
   ],
   "source": [
    "top_coef=abs_mean_coef.sort_values(ascending=False)\n",
    "top_coef.head(10)"
   ]
  },
  {
   "cell_type": "code",
   "execution_count": 14,
   "metadata": {},
   "outputs": [],
   "source": [
    "all_features = pd.concat([feature_set,location_pay,location_sd], axis = 1)\n"
   ]
  },
  {
   "cell_type": "code",
   "execution_count": 15,
   "metadata": {},
   "outputs": [],
   "source": [
    "#Choose the features with top n coefficients \n",
    "\n",
    "features_number = 3\n",
    "#get the top n features and construct a new feature.\n",
    "top_coef=abs_mean_coef.sort_values(ascending=False)\n",
    "\n",
    "selected_features = all_features.iloc[:,top_coef.index[0]]\n",
    "\n",
    "for features in range(features_number-1):\n",
    "    selected_features = pd.concat([selected_features, all_features.iloc[:,top_coef.index[features+1]]], axis = 1)\n",
    "\n"
   ]
  },
  {
   "cell_type": "code",
   "execution_count": 16,
   "metadata": {},
   "outputs": [
    {
     "data": {
      "text/html": [
       "<div>\n",
       "<style scoped>\n",
       "    .dataframe tbody tr th:only-of-type {\n",
       "        vertical-align: middle;\n",
       "    }\n",
       "\n",
       "    .dataframe tbody tr th {\n",
       "        vertical-align: top;\n",
       "    }\n",
       "\n",
       "    .dataframe thead th {\n",
       "        text-align: right;\n",
       "    }\n",
       "</style>\n",
       "<table border=\"1\" class=\"dataframe\">\n",
       "  <thead>\n",
       "    <tr style=\"text-align: right;\">\n",
       "      <th></th>\n",
       "      <th>55</th>\n",
       "      <th>1</th>\n",
       "      <th>21</th>\n",
       "    </tr>\n",
       "  </thead>\n",
       "  <tbody>\n",
       "    <tr>\n",
       "      <th>0</th>\n",
       "      <td>0.467229</td>\n",
       "      <td>-1.180298</td>\n",
       "      <td>1.103600</td>\n",
       "    </tr>\n",
       "    <tr>\n",
       "      <th>1</th>\n",
       "      <td>-1.504403</td>\n",
       "      <td>-1.045167</td>\n",
       "      <td>-0.092121</td>\n",
       "    </tr>\n",
       "    <tr>\n",
       "      <th>2</th>\n",
       "      <td>0.888779</td>\n",
       "      <td>0.775737</td>\n",
       "      <td>-0.562840</td>\n",
       "    </tr>\n",
       "    <tr>\n",
       "      <th>3</th>\n",
       "      <td>-0.026882</td>\n",
       "      <td>-0.108571</td>\n",
       "      <td>-0.092121</td>\n",
       "    </tr>\n",
       "    <tr>\n",
       "      <th>4</th>\n",
       "      <td>0.679443</td>\n",
       "      <td>-0.224316</td>\n",
       "      <td>-1.280074</td>\n",
       "    </tr>\n",
       "  </tbody>\n",
       "</table>\n",
       "</div>"
      ],
      "text/plain": [
       "         55        1         21\n",
       "0  0.467229 -1.180298  1.103600\n",
       "1 -1.504403 -1.045167 -0.092121\n",
       "2  0.888779  0.775737 -0.562840\n",
       "3 -0.026882 -0.108571 -0.092121\n",
       "4  0.679443 -0.224316 -1.280074"
      ]
     },
     "execution_count": 16,
     "metadata": {},
     "output_type": "execute_result"
    }
   ],
   "source": [
    "selected_features.head()"
   ]
  },
  {
   "cell_type": "code",
   "execution_count": 16,
   "metadata": {},
   "outputs": [
    {
     "data": {
      "image/png": "[encoded data removed]",
      "text/plain": [
       "<Figure size 432x288 with 1 Axes>"
      ]
     },
     "metadata": {
      "needs_background": "light"
     },
     "output_type": "display_data"
    }
   ],
   "source": [
    "#Look at the distribution of the turnover rate (in the normalized space)\n",
    "#And see if there are natural boundaries for the classes.\n",
    "sb.distplot(turnOverRate)\n",
    "sb.despine()"
   ]
  },
  {
   "cell_type": "code",
   "execution_count": 19,
   "metadata": {},
   "outputs": [
    {
     "data": {
      "text/plain": [
       "array([[0.],\n",
       "       [0.],\n",
       "       [0.],\n",
       "       [1.],\n",
       "       [1.],\n",
       "       [0.],\n",
       "       [1.],\n",
       "       [0.],\n",
       "       [0.],\n",
       "       [0.],\n",
       "       [0.],\n",
       "       [1.],\n",
       "       [0.],\n",
       "       [0.],\n",
       "       [0.],\n",
       "       [1.],\n",
       "       [0.],\n",
       "       [0.],\n",
       "       [0.],\n",
       "       [0.],\n",
       "       [0.],\n",
       "       [0.],\n",
       "       [0.],\n",
       "       [0.],\n",
       "       [1.],\n",
       "       [1.],\n",
       "       [2.],\n",
       "       [0.],\n",
       "       [2.],\n",
       "       [1.],\n",
       "       [0.],\n",
       "       [0.],\n",
       "       [0.],\n",
       "       [0.],\n",
       "       [0.],\n",
       "       [0.],\n",
       "       [0.],\n",
       "       [0.],\n",
       "       [0.],\n",
       "       [0.],\n",
       "       [0.],\n",
       "       [0.],\n",
       "       [2.],\n",
       "       [0.],\n",
       "       [0.],\n",
       "       [2.],\n",
       "       [0.],\n",
       "       [1.],\n",
       "       [1.],\n",
       "       [1.],\n",
       "       [0.],\n",
       "       [0.],\n",
       "       [0.],\n",
       "       [0.],\n",
       "       [0.],\n",
       "       [0.],\n",
       "       [0.],\n",
       "       [0.],\n",
       "       [0.],\n",
       "       [1.],\n",
       "       [0.],\n",
       "       [0.],\n",
       "       [1.],\n",
       "       [0.],\n",
       "       [0.],\n",
       "       [0.],\n",
       "       [0.],\n",
       "       [0.],\n",
       "       [0.],\n",
       "       [0.],\n",
       "       [0.],\n",
       "       [0.],\n",
       "       [0.],\n",
       "       [2.],\n",
       "       [0.],\n",
       "       [0.],\n",
       "       [0.],\n",
       "       [0.],\n",
       "       [0.],\n",
       "       [0.],\n",
       "       [0.],\n",
       "       [0.],\n",
       "       [0.],\n",
       "       [0.],\n",
       "       [0.],\n",
       "       [0.],\n",
       "       [0.],\n",
       "       [0.],\n",
       "       [0.],\n",
       "       [2.],\n",
       "       [0.],\n",
       "       [0.],\n",
       "       [0.],\n",
       "       [1.],\n",
       "       [0.],\n",
       "       [0.],\n",
       "       [2.],\n",
       "       [0.],\n",
       "       [0.],\n",
       "       [0.],\n",
       "       [0.],\n",
       "       [0.],\n",
       "       [0.],\n",
       "       [0.],\n",
       "       [0.],\n",
       "       [0.],\n",
       "       [1.],\n",
       "       [0.],\n",
       "       [0.],\n",
       "       [1.],\n",
       "       [1.],\n",
       "       [0.],\n",
       "       [0.],\n",
       "       [0.],\n",
       "       [0.],\n",
       "       [1.],\n",
       "       [0.],\n",
       "       [0.],\n",
       "       [0.],\n",
       "       [2.],\n",
       "       [0.],\n",
       "       [0.],\n",
       "       [0.],\n",
       "       [0.],\n",
       "       [0.],\n",
       "       [1.],\n",
       "       [0.],\n",
       "       [0.],\n",
       "       [0.],\n",
       "       [0.],\n",
       "       [0.],\n",
       "       [0.],\n",
       "       [0.],\n",
       "       [0.],\n",
       "       [0.],\n",
       "       [0.],\n",
       "       [0.],\n",
       "       [0.],\n",
       "       [0.],\n",
       "       [0.],\n",
       "       [0.],\n",
       "       [0.],\n",
       "       [0.],\n",
       "       [0.],\n",
       "       [0.],\n",
       "       [2.],\n",
       "       [1.],\n",
       "       [1.],\n",
       "       [0.],\n",
       "       [0.],\n",
       "       [0.],\n",
       "       [0.],\n",
       "       [0.],\n",
       "       [0.],\n",
       "       [0.],\n",
       "       [0.],\n",
       "       [0.],\n",
       "       [0.],\n",
       "       [0.],\n",
       "       [0.],\n",
       "       [0.],\n",
       "       [0.],\n",
       "       [0.],\n",
       "       [0.],\n",
       "       [0.],\n",
       "       [0.],\n",
       "       [0.],\n",
       "       [0.],\n",
       "       [0.],\n",
       "       [0.],\n",
       "       [0.],\n",
       "       [0.],\n",
       "       [0.],\n",
       "       [0.],\n",
       "       [0.],\n",
       "       [1.],\n",
       "       [0.],\n",
       "       [0.],\n",
       "       [0.],\n",
       "       [0.],\n",
       "       [0.],\n",
       "       [0.],\n",
       "       [0.],\n",
       "       [0.],\n",
       "       [0.],\n",
       "       [0.],\n",
       "       [1.],\n",
       "       [0.],\n",
       "       [0.],\n",
       "       [0.],\n",
       "       [0.],\n",
       "       [0.],\n",
       "       [0.],\n",
       "       [0.],\n",
       "       [0.],\n",
       "       [0.],\n",
       "       [0.],\n",
       "       [0.],\n",
       "       [0.],\n",
       "       [0.],\n",
       "       [2.],\n",
       "       [0.],\n",
       "       [0.],\n",
       "       [0.],\n",
       "       [0.],\n",
       "       [0.],\n",
       "       [0.],\n",
       "       [1.],\n",
       "       [0.],\n",
       "       [0.],\n",
       "       [0.],\n",
       "       [0.],\n",
       "       [0.],\n",
       "       [1.],\n",
       "       [0.],\n",
       "       [0.],\n",
       "       [0.],\n",
       "       [0.],\n",
       "       [0.],\n",
       "       [0.],\n",
       "       [0.],\n",
       "       [0.],\n",
       "       [1.],\n",
       "       [0.],\n",
       "       [0.],\n",
       "       [0.],\n",
       "       [0.],\n",
       "       [0.],\n",
       "       [2.],\n",
       "       [0.],\n",
       "       [0.],\n",
       "       [0.],\n",
       "       [0.],\n",
       "       [0.],\n",
       "       [0.],\n",
       "       [0.],\n",
       "       [0.],\n",
       "       [0.],\n",
       "       [0.],\n",
       "       [2.],\n",
       "       [0.],\n",
       "       [0.],\n",
       "       [0.],\n",
       "       [0.],\n",
       "       [0.],\n",
       "       [0.],\n",
       "       [1.],\n",
       "       [0.],\n",
       "       [0.],\n",
       "       [0.],\n",
       "       [0.],\n",
       "       [0.],\n",
       "       [0.],\n",
       "       [0.],\n",
       "       [0.],\n",
       "       [0.],\n",
       "       [0.]])"
      ]
     },
     "execution_count": 19,
     "metadata": {},
     "output_type": "execute_result"
    }
   ],
   "source": [
    "turn_over_label"
   ]
  },
  {
   "cell_type": "code",
   "execution_count": 17,
   "metadata": {},
   "outputs": [],
   "source": [
    "#looks like we can split between -2 and -1, but this is very unbalanced classes\n",
    "#Make labels as 0, 1, and 2.\n",
    "turn_over_label=np.zeros((turnOverRate.shape[0],1))\n",
    "turn_over_label[turnOverRate<-2] = 2\n",
    "idx = (turnOverRate>=-2)&(turnOverRate<=-1)\n",
    "turn_over_label[idx] = 1\n",
    "\n"
   ]
  },
  {
   "cell_type": "code",
   "execution_count": 20,
   "metadata": {},
   "outputs": [
    {
     "data": {
      "text/plain": [
       "257"
      ]
     },
     "execution_count": 20,
     "metadata": {},
     "output_type": "execute_result"
    }
   ],
   "source": [
    "turnOverRate.shape[0]"
   ]
  },
  {
   "cell_type": "code",
   "execution_count": 36,
   "metadata": {},
   "outputs": [],
   "source": [
    "#Try once and see how it looks.\n",
    "X_train, X_test, y_train, y_test = train_test_split(selected_features, turn_over_label, test_size = 0.2,stratify=turn_over_label)\n",
    "\n",
    "#resample because groups 1 and 2 are much smaller than 0. Especially 2 is smaller\n",
    "sm = SMOTE()\n",
    "X_train_res, y_train_res = sm.fit_sample(X_train, y_train.ravel())\n",
    "\n",
    "clf = LogisticRegressionCV(cv=5).fit(X_train_res, y_train_res)"
   ]
  },
  {
   "cell_type": "code",
   "execution_count": 37,
   "metadata": {},
   "outputs": [],
   "source": [
    "y_prob = clf.predict_proba(X_test)"
   ]
  },
  {
   "cell_type": "code",
   "execution_count": 42,
   "metadata": {},
   "outputs": [
    {
     "ename": "IndexError",
     "evalue": "too many indices for array",
     "output_type": "error",
     "traceback": [
      "\u001b[0;31m---------------------------------------------------------------------------\u001b[0m",
      "\u001b[0;31mIndexError\u001b[0m                                Traceback (most recent call last)",
      "\u001b[0;32m<ipython-input-42-4039a3eb6c45>\u001b[0m in \u001b[0;36m<module>\u001b[0;34m()\u001b[0m\n\u001b[0;32m----> 1\u001b[0;31m \u001b[0mmacro_roc_auc_ovo\u001b[0m \u001b[0;34m=\u001b[0m \u001b[0mroc_auc_score\u001b[0m\u001b[0;34m(\u001b[0m\u001b[0my_test\u001b[0m\u001b[0;34m,\u001b[0m \u001b[0my_prob\u001b[0m\u001b[0;34m,\u001b[0m \u001b[0mmulti_class\u001b[0m\u001b[0;34m=\u001b[0m\u001b[0;34m\"ovo\"\u001b[0m\u001b[0;34m,\u001b[0m\u001b[0maverage\u001b[0m\u001b[0;34m=\u001b[0m\u001b[0;34m\"macro\"\u001b[0m\u001b[0;34m)\u001b[0m\u001b[0;34m\u001b[0m\u001b[0;34m\u001b[0m\u001b[0m\n\u001b[0m",
      "\u001b[0;32m/home/akira/anaconda3/envs/unsupervisedLearning/lib/python3.6/site-packages/sklearn/metrics/_ranking.py\u001b[0m in \u001b[0;36mroc_auc_score\u001b[0;34m(y_true, y_score, average, sample_weight, max_fpr, multi_class, labels)\u001b[0m\n\u001b[1;32m    381\u001b[0m             \u001b[0;32mraise\u001b[0m \u001b[0mValueError\u001b[0m\u001b[0;34m(\u001b[0m\u001b[0;34m\"multi_class must be in ('ovo', 'ovr')\"\u001b[0m\u001b[0;34m)\u001b[0m\u001b[0;34m\u001b[0m\u001b[0;34m\u001b[0m\u001b[0m\n\u001b[1;32m    382\u001b[0m         return _multiclass_roc_auc_score(y_true, y_score, labels,\n\u001b[0;32m--> 383\u001b[0;31m                                          multi_class, average, sample_weight)\n\u001b[0m\u001b[1;32m    384\u001b[0m     \u001b[0;32melif\u001b[0m \u001b[0my_type\u001b[0m \u001b[0;34m==\u001b[0m \u001b[0;34m\"binary\"\u001b[0m\u001b[0;34m:\u001b[0m\u001b[0;34m\u001b[0m\u001b[0;34m\u001b[0m\u001b[0m\n\u001b[1;32m    385\u001b[0m         \u001b[0mlabels\u001b[0m \u001b[0;34m=\u001b[0m \u001b[0mnp\u001b[0m\u001b[0;34m.\u001b[0m\u001b[0munique\u001b[0m\u001b[0;34m(\u001b[0m\u001b[0my_true\u001b[0m\u001b[0;34m)\u001b[0m\u001b[0;34m\u001b[0m\u001b[0;34m\u001b[0m\u001b[0m\n",
      "\u001b[0;32m/home/akira/anaconda3/envs/unsupervisedLearning/lib/python3.6/site-packages/sklearn/metrics/_ranking.py\u001b[0m in \u001b[0;36m_multiclass_roc_auc_score\u001b[0;34m(y_true, y_score, labels, multi_class, average, sample_weight)\u001b[0m\n\u001b[1;32m    487\u001b[0m         return _average_multiclass_ovo_score(_binary_roc_auc_score,\n\u001b[1;32m    488\u001b[0m                                              \u001b[0my_true_encoded\u001b[0m\u001b[0;34m,\u001b[0m\u001b[0;34m\u001b[0m\u001b[0;34m\u001b[0m\u001b[0m\n\u001b[0;32m--> 489\u001b[0;31m                                              y_score, average=average)\n\u001b[0m\u001b[1;32m    490\u001b[0m     \u001b[0;32melse\u001b[0m\u001b[0;34m:\u001b[0m\u001b[0;34m\u001b[0m\u001b[0;34m\u001b[0m\u001b[0m\n\u001b[1;32m    491\u001b[0m         \u001b[0;31m# ovr is same as multi-label\u001b[0m\u001b[0;34m\u001b[0m\u001b[0;34m\u001b[0m\u001b[0;34m\u001b[0m\u001b[0m\n",
      "\u001b[0;32m/home/akira/anaconda3/envs/unsupervisedLearning/lib/python3.6/site-packages/sklearn/metrics/_base.py\u001b[0m in \u001b[0;36m_average_multiclass_ovo_score\u001b[0;34m(binary_metric, y_true, y_score, average)\u001b[0m\n\u001b[1;32m    196\u001b[0m         \u001b[0mb_true\u001b[0m \u001b[0;34m=\u001b[0m \u001b[0mb_mask\u001b[0m\u001b[0;34m[\u001b[0m\u001b[0mab_mask\u001b[0m\u001b[0;34m]\u001b[0m\u001b[0;34m\u001b[0m\u001b[0;34m\u001b[0m\u001b[0m\n\u001b[1;32m    197\u001b[0m \u001b[0;34m\u001b[0m\u001b[0m\n\u001b[0;32m--> 198\u001b[0;31m         \u001b[0ma_true_score\u001b[0m \u001b[0;34m=\u001b[0m \u001b[0mbinary_metric\u001b[0m\u001b[0;34m(\u001b[0m\u001b[0ma_true\u001b[0m\u001b[0;34m,\u001b[0m \u001b[0my_score\u001b[0m\u001b[0;34m[\u001b[0m\u001b[0mab_mask\u001b[0m\u001b[0;34m,\u001b[0m \u001b[0ma\u001b[0m\u001b[0;34m]\u001b[0m\u001b[0;34m)\u001b[0m\u001b[0;34m\u001b[0m\u001b[0;34m\u001b[0m\u001b[0m\n\u001b[0m\u001b[1;32m    199\u001b[0m         \u001b[0mb_true_score\u001b[0m \u001b[0;34m=\u001b[0m \u001b[0mbinary_metric\u001b[0m\u001b[0;34m(\u001b[0m\u001b[0mb_true\u001b[0m\u001b[0;34m,\u001b[0m \u001b[0my_score\u001b[0m\u001b[0;34m[\u001b[0m\u001b[0mab_mask\u001b[0m\u001b[0;34m,\u001b[0m \u001b[0mb\u001b[0m\u001b[0;34m]\u001b[0m\u001b[0;34m)\u001b[0m\u001b[0;34m\u001b[0m\u001b[0;34m\u001b[0m\u001b[0m\n\u001b[1;32m    200\u001b[0m         \u001b[0mpair_scores\u001b[0m\u001b[0;34m[\u001b[0m\u001b[0mix\u001b[0m\u001b[0;34m]\u001b[0m \u001b[0;34m=\u001b[0m \u001b[0;34m(\u001b[0m\u001b[0ma_true_score\u001b[0m \u001b[0;34m+\u001b[0m \u001b[0mb_true_score\u001b[0m\u001b[0;34m)\u001b[0m \u001b[0;34m/\u001b[0m \u001b[0;36m2\u001b[0m\u001b[0;34m\u001b[0m\u001b[0;34m\u001b[0m\u001b[0m\n",
      "\u001b[0;31mIndexError\u001b[0m: too many indices for array"
     ]
    }
   ],
   "source": [
    "macro_roc_auc_ovo = roc_auc_score(y_test, y_prob, multi_class=\"ovo\",average=\"macro\")"
   ]
  },
  {
   "cell_type": "code",
   "execution_count": 45,
   "metadata": {},
   "outputs": [
    {
     "data": {
      "text/plain": [
       "0.45410518225735624"
      ]
     },
     "execution_count": 45,
     "metadata": {},
     "output_type": "execute_result"
    }
   ],
   "source": [
    "macro_roc_auc_ovr = roc_auc_score(y_test, y_prob, multi_class=\"ovr\",\n",
    "                                  average=\"macro\")\n",
    "macro_roc_auc_ovr"
   ]
  },
  {
   "cell_type": "code",
   "execution_count": 22,
   "metadata": {},
   "outputs": [
    {
     "ename": "ValueError",
     "evalue": "Expected n_neighbors <= n_samples,  but n_samples = 5, n_neighbors = 6",
     "output_type": "error",
     "traceback": [
      "\u001b[0;31m---------------------------------------------------------------------------\u001b[0m",
      "\u001b[0;31mValueError\u001b[0m                                Traceback (most recent call last)",
      "\u001b[0;32m<ipython-input-22-e6ee4d5855bb>\u001b[0m in \u001b[0;36m<module>\u001b[0;34m()\u001b[0m\n\u001b[1;32m     17\u001b[0m     \u001b[0;31m#resample because groups 1 and 2 are much smaller than 0. Especially 2 is smaller\u001b[0m\u001b[0;34m\u001b[0m\u001b[0;34m\u001b[0m\u001b[0;34m\u001b[0m\u001b[0m\n\u001b[1;32m     18\u001b[0m     \u001b[0msm\u001b[0m \u001b[0;34m=\u001b[0m \u001b[0mSMOTE\u001b[0m\u001b[0;34m(\u001b[0m\u001b[0;34m)\u001b[0m\u001b[0;34m\u001b[0m\u001b[0;34m\u001b[0m\u001b[0m\n\u001b[0;32m---> 19\u001b[0;31m     \u001b[0mX_train_res\u001b[0m\u001b[0;34m,\u001b[0m \u001b[0my_train_res\u001b[0m \u001b[0;34m=\u001b[0m \u001b[0msm\u001b[0m\u001b[0;34m.\u001b[0m\u001b[0mfit_sample\u001b[0m\u001b[0;34m(\u001b[0m\u001b[0mX_train\u001b[0m\u001b[0;34m,\u001b[0m \u001b[0my_train\u001b[0m\u001b[0;34m.\u001b[0m\u001b[0mravel\u001b[0m\u001b[0;34m(\u001b[0m\u001b[0;34m)\u001b[0m\u001b[0;34m)\u001b[0m\u001b[0;34m\u001b[0m\u001b[0;34m\u001b[0m\u001b[0m\n\u001b[0m\u001b[1;32m     20\u001b[0m \u001b[0;34m\u001b[0m\u001b[0m\n\u001b[1;32m     21\u001b[0m     \u001b[0mclf\u001b[0m \u001b[0;34m=\u001b[0m \u001b[0mLogisticRegressionCV\u001b[0m\u001b[0;34m(\u001b[0m\u001b[0mcv\u001b[0m\u001b[0;34m=\u001b[0m\u001b[0;36m5\u001b[0m\u001b[0;34m)\u001b[0m\u001b[0;34m.\u001b[0m\u001b[0mfit\u001b[0m\u001b[0;34m(\u001b[0m\u001b[0mX_train_res\u001b[0m\u001b[0;34m,\u001b[0m \u001b[0my_train_res\u001b[0m\u001b[0;34m)\u001b[0m\u001b[0;34m\u001b[0m\u001b[0;34m\u001b[0m\u001b[0m\n",
      "\u001b[0;32m/home/akira/anaconda3/envs/unsupervisedLearning/lib/python3.6/site-packages/imblearn/base.py\u001b[0m in \u001b[0;36mfit_resample\u001b[0;34m(self, X, y)\u001b[0m\n\u001b[1;32m     79\u001b[0m         )\n\u001b[1;32m     80\u001b[0m \u001b[0;34m\u001b[0m\u001b[0m\n\u001b[0;32m---> 81\u001b[0;31m         \u001b[0moutput\u001b[0m \u001b[0;34m=\u001b[0m \u001b[0mself\u001b[0m\u001b[0;34m.\u001b[0m\u001b[0m_fit_resample\u001b[0m\u001b[0;34m(\u001b[0m\u001b[0mX\u001b[0m\u001b[0;34m,\u001b[0m \u001b[0my\u001b[0m\u001b[0;34m)\u001b[0m\u001b[0;34m\u001b[0m\u001b[0;34m\u001b[0m\u001b[0m\n\u001b[0m\u001b[1;32m     82\u001b[0m \u001b[0;34m\u001b[0m\u001b[0m\n\u001b[1;32m     83\u001b[0m         \u001b[0;32mif\u001b[0m \u001b[0mself\u001b[0m\u001b[0;34m.\u001b[0m\u001b[0m_X_columns\u001b[0m \u001b[0;32mis\u001b[0m \u001b[0;32mnot\u001b[0m \u001b[0;32mNone\u001b[0m \u001b[0;32mor\u001b[0m \u001b[0mself\u001b[0m\u001b[0;34m.\u001b[0m\u001b[0m_y_name\u001b[0m \u001b[0;32mis\u001b[0m \u001b[0;32mnot\u001b[0m \u001b[0;32mNone\u001b[0m\u001b[0;34m:\u001b[0m\u001b[0;34m\u001b[0m\u001b[0;34m\u001b[0m\u001b[0m\n",
      "\u001b[0;32m/home/akira/anaconda3/envs/unsupervisedLearning/lib/python3.6/site-packages/imblearn/over_sampling/_smote.py\u001b[0m in \u001b[0;36m_fit_resample\u001b[0;34m(self, X, y)\u001b[0m\n\u001b[1;32m    725\u001b[0m \u001b[0;34m\u001b[0m\u001b[0m\n\u001b[1;32m    726\u001b[0m             \u001b[0mself\u001b[0m\u001b[0;34m.\u001b[0m\u001b[0mnn_k_\u001b[0m\u001b[0;34m.\u001b[0m\u001b[0mfit\u001b[0m\u001b[0;34m(\u001b[0m\u001b[0mX_class\u001b[0m\u001b[0;34m)\u001b[0m\u001b[0;34m\u001b[0m\u001b[0;34m\u001b[0m\u001b[0m\n\u001b[0;32m--> 727\u001b[0;31m             \u001b[0mnns\u001b[0m \u001b[0;34m=\u001b[0m \u001b[0mself\u001b[0m\u001b[0;34m.\u001b[0m\u001b[0mnn_k_\u001b[0m\u001b[0;34m.\u001b[0m\u001b[0mkneighbors\u001b[0m\u001b[0;34m(\u001b[0m\u001b[0mX_class\u001b[0m\u001b[0;34m,\u001b[0m \u001b[0mreturn_distance\u001b[0m\u001b[0;34m=\u001b[0m\u001b[0;32mFalse\u001b[0m\u001b[0;34m)\u001b[0m\u001b[0;34m[\u001b[0m\u001b[0;34m:\u001b[0m\u001b[0;34m,\u001b[0m \u001b[0;36m1\u001b[0m\u001b[0;34m:\u001b[0m\u001b[0;34m]\u001b[0m\u001b[0;34m\u001b[0m\u001b[0;34m\u001b[0m\u001b[0m\n\u001b[0m\u001b[1;32m    728\u001b[0m             X_new, y_new = self._make_samples(\n\u001b[1;32m    729\u001b[0m                 \u001b[0mX_class\u001b[0m\u001b[0;34m,\u001b[0m \u001b[0my\u001b[0m\u001b[0;34m.\u001b[0m\u001b[0mdtype\u001b[0m\u001b[0;34m,\u001b[0m \u001b[0mclass_sample\u001b[0m\u001b[0;34m,\u001b[0m \u001b[0mX_class\u001b[0m\u001b[0;34m,\u001b[0m \u001b[0mnns\u001b[0m\u001b[0;34m,\u001b[0m \u001b[0mn_samples\u001b[0m\u001b[0;34m,\u001b[0m \u001b[0;36m1.0\u001b[0m\u001b[0;34m\u001b[0m\u001b[0;34m\u001b[0m\u001b[0m\n",
      "\u001b[0;32m/home/akira/anaconda3/envs/unsupervisedLearning/lib/python3.6/site-packages/sklearn/neighbors/_base.py\u001b[0m in \u001b[0;36mkneighbors\u001b[0;34m(self, X, n_neighbors, return_distance)\u001b[0m\n\u001b[1;32m    615\u001b[0m                 \u001b[0;34m\"Expected n_neighbors <= n_samples, \"\u001b[0m\u001b[0;34m\u001b[0m\u001b[0;34m\u001b[0m\u001b[0m\n\u001b[1;32m    616\u001b[0m                 \u001b[0;34m\" but n_samples = %d, n_neighbors = %d\"\u001b[0m \u001b[0;34m%\u001b[0m\u001b[0;34m\u001b[0m\u001b[0;34m\u001b[0m\u001b[0m\n\u001b[0;32m--> 617\u001b[0;31m                 \u001b[0;34m(\u001b[0m\u001b[0mn_samples_fit\u001b[0m\u001b[0;34m,\u001b[0m \u001b[0mn_neighbors\u001b[0m\u001b[0;34m)\u001b[0m\u001b[0;34m\u001b[0m\u001b[0;34m\u001b[0m\u001b[0m\n\u001b[0m\u001b[1;32m    618\u001b[0m             )\n\u001b[1;32m    619\u001b[0m \u001b[0;34m\u001b[0m\u001b[0m\n",
      "\u001b[0;31mValueError\u001b[0m: Expected n_neighbors <= n_samples,  but n_samples = 5, n_neighbors = 6"
     ]
    }
   ],
   "source": [
    "from sklearn.linear_model import LogisticRegressionCV\n",
    "from imblearn.over_sampling import SMOTE\n",
    "\n",
    "train_number = 1000\n",
    "#Run this part for 1000 times and get the values for r-squared, alpha, and the weights.\n",
    "#reg.alpha_, reg.coef_, r2score.\n",
    "\n",
    "#initialize\n",
    "logit_r_squared = np.zeros((train_number,1))\n",
    "logit_coef = np.zeros((3,7,train_number))\n",
    "\n",
    "for trialNo in range(train_number):\n",
    "    \n",
    "\n",
    "    X_train, X_test, y_train, y_test = train_test_sstratify=y,plit(selected_features, turn_over_label, test_size = 0.2,stratify=turn_over_label)\n",
    "\n",
    "    #resample because groups 1 and 2 are much smaller than 0. Especially 2 is smaller\n",
    "    sm = SMOTE()\n",
    "    X_train_res, y_train_res = sm.fit_sample(X_train, y_train.ravel())\n",
    "\n",
    "    clf = LogisticRegressionCV(cv=5).fit(X_train_res, y_train_res)\n",
    "    predicted_label = clf.predict(X_test)\n",
    "    \n",
    "    logit_r_squared[trialNo] = clf.score(X_test, y_test)\n",
    "    logit_coef[:,:,trialNo] = clf.coef_ \n",
    "    "
   ]
  },
  {
   "cell_type": "code",
   "execution_count": 21,
   "metadata": {},
   "outputs": [
    {
     "data": {
      "text/plain": [
       "7"
      ]
     },
     "execution_count": 21,
     "metadata": {},
     "output_type": "execute_result"
    }
   ],
   "source": [
    "clf.coef_.shape[1]"
   ]
  },
  {
   "cell_type": "code",
   "execution_count": 17,
   "metadata": {},
   "outputs": [
    {
     "data": {
      "text/html": [
       "<div>\n",
       "<style scoped>\n",
       "    .dataframe tbody tr th:only-of-type {\n",
       "        vertical-align: middle;\n",
       "    }\n",
       "\n",
       "    .dataframe tbody tr th {\n",
       "        vertical-align: top;\n",
       "    }\n",
       "\n",
       "    .dataframe thead th {\n",
       "        text-align: right;\n",
       "    }\n",
       "</style>\n",
       "<table border=\"1\" class=\"dataframe\">\n",
       "  <thead>\n",
       "    <tr style=\"text-align: right;\">\n",
       "      <th></th>\n",
       "      <th>0</th>\n",
       "      <th>1</th>\n",
       "      <th>2</th>\n",
       "      <th>3</th>\n",
       "      <th>4</th>\n",
       "      <th>5</th>\n",
       "    </tr>\n",
       "  </thead>\n",
       "  <tbody>\n",
       "    <tr>\n",
       "      <th>0</th>\n",
       "      <td>0.467229</td>\n",
       "      <td>-1.180298</td>\n",
       "      <td>1.103600</td>\n",
       "      <td>-0.551469</td>\n",
       "      <td>0.515634</td>\n",
       "      <td>-1.302577</td>\n",
       "    </tr>\n",
       "    <tr>\n",
       "      <th>1</th>\n",
       "      <td>-1.504403</td>\n",
       "      <td>-1.045167</td>\n",
       "      <td>-0.092121</td>\n",
       "      <td>1.572352</td>\n",
       "      <td>0.138588</td>\n",
       "      <td>0.096282</td>\n",
       "    </tr>\n",
       "    <tr>\n",
       "      <th>2</th>\n",
       "      <td>0.888779</td>\n",
       "      <td>0.775737</td>\n",
       "      <td>-0.562840</td>\n",
       "      <td>0.689458</td>\n",
       "      <td>-0.500240</td>\n",
       "      <td>-0.436616</td>\n",
       "    </tr>\n",
       "    <tr>\n",
       "      <th>3</th>\n",
       "      <td>-0.026882</td>\n",
       "      <td>-0.108571</td>\n",
       "      <td>-0.092121</td>\n",
       "      <td>0.002919</td>\n",
       "      <td>0.002476</td>\n",
       "      <td>0.010002</td>\n",
       "    </tr>\n",
       "    <tr>\n",
       "      <th>4</th>\n",
       "      <td>0.679443</td>\n",
       "      <td>-0.224316</td>\n",
       "      <td>-1.280074</td>\n",
       "      <td>-0.152410</td>\n",
       "      <td>-0.869737</td>\n",
       "      <td>0.287141</td>\n",
       "    </tr>\n",
       "  </tbody>\n",
       "</table>\n",
       "</div>"
      ],
      "text/plain": [
       "          0         1         2         3         4         5\n",
       "0  0.467229 -1.180298  1.103600 -0.551469  0.515634 -1.302577\n",
       "1 -1.504403 -1.045167 -0.092121  1.572352  0.138588  0.096282\n",
       "2  0.888779  0.775737 -0.562840  0.689458 -0.500240 -0.436616\n",
       "3 -0.026882 -0.108571 -0.092121  0.002919  0.002476  0.010002\n",
       "4  0.679443 -0.224316 -1.280074 -0.152410 -0.869737  0.287141"
      ]
     },
     "execution_count": 17,
     "metadata": {},
     "output_type": "execute_result"
    }
   ],
   "source": [
    "poly = pp.PolynomialFeatures(interaction_only=True,include_bias = False)\n",
    "selected_features_interaction=poly.fit_transform(selected_features)\n",
    "selected_features_interaction=pd.DataFrame(data=selected_features_interaction)\n",
    "selected_features_interaction.head()"
   ]
  },
  {
   "cell_type": "code",
   "execution_count": 18,
   "metadata": {},
   "outputs": [
    {
     "data": {
      "text/plain": [
       "['x0', 'x1', 'x2', 'x0 x1', 'x0 x2', 'x1 x2']"
      ]
     },
     "execution_count": 18,
     "metadata": {},
     "output_type": "execute_result"
    }
   ],
   "source": [
    "poly.get_feature_names()\n",
    "\n"
   ]
  },
  {
   "cell_type": "code",
   "execution_count": 19,
   "metadata": {},
   "outputs": [],
   "source": [
    "#make a model with interactions.\n",
    "#Run N times and take the average.\n",
    "#Try to use the shuffle split function => later\n",
    "x_linear = selected_features_interaction\n",
    "y_linear = turnOverRate #Turn over\n",
    "\n",
    "train_number = 450\n",
    "#Run this part for 1000 times and get the values for r-squared, alpha, and the weights.\n",
    "#reg.alpha_, reg.coef_, r2score.\n",
    "\n",
    "#initialize\n",
    "linear_r_squared = np.zeros((train_number,1))\n",
    "linear_coef = np.zeros((train_number,x_linear.shape[1]))\n",
    "\n",
    "for trialNo in range(train_number):\n",
    "    \n",
    "    #split 80-20\n",
    "    Xl_train, Xl_test, Yl_train, Yl_test = train_test_split(x_linear, y_linear, test_size=0.2)\n",
    "    \n",
    "\n",
    "    linear_reg = linear_model.LinearRegression()\n",
    "    linear_reg.fit(Xl_train,Yl_train)\n",
    "    \n",
    "    \n",
    "    Ypredl = linear_reg.predict(Xl_test)\n",
    "    \n",
    "    linear_r_squared[trialNo] = r2_score(Yl_test, Ypredl)\n",
    "    linear_coef[trialNo,:] = linear_reg.coef_"
   ]
  },
  {
   "cell_type": "code",
   "execution_count": 20,
   "metadata": {},
   "outputs": [
    {
     "data": {
      "image/png": "[encoded data removed]",
      "text/plain": [
       "<Figure size 432x288 with 1 Axes>"
      ]
     },
     "metadata": {
      "needs_background": "light"
     },
     "output_type": "display_data"
    }
   ],
   "source": [
    "linear_r_squared_df=pd.DataFrame(data=linear_r_squared)\n",
    "#linear_r_squared_df.hist()\n",
    "sb.distplot(linear_r_squared_df)\n",
    "sb.despine()"
   ]
  },
  {
   "cell_type": "code",
   "execution_count": 21,
   "metadata": {},
   "outputs": [
    {
     "name": "stdout",
     "output_type": "stream",
     "text": [
      "1.72314810927932e-42\n"
     ]
    }
   ],
   "source": [
    "sum_ranks, pval_w = wilcoxon(linear_r_squared[:,0])\n",
    "print(pval_w)"
   ]
  },
  {
   "cell_type": "code",
   "execution_count": 38,
   "metadata": {},
   "outputs": [
    {
     "ename": "NameError",
     "evalue": "name 'mean_linear_coef' is not defined",
     "output_type": "error",
     "traceback": [
      "\u001b[0;31m---------------------------------------------------------------------------\u001b[0m",
      "\u001b[0;31mNameError\u001b[0m                                 Traceback (most recent call last)",
      "\u001b[0;32m<ipython-input-38-342911561133>\u001b[0m in \u001b[0;36m<module>\u001b[0;34m()\u001b[0m\n\u001b[0;32m----> 1\u001b[0;31m \u001b[0mmean_linear_coef\u001b[0m\u001b[0;34m[\u001b[0m\u001b[0;36m5\u001b[0m\u001b[0;34m]\u001b[0m\u001b[0;34m\u001b[0m\u001b[0;34m\u001b[0m\u001b[0m\n\u001b[0m",
      "\u001b[0;31mNameError\u001b[0m: name 'mean_linear_coef' is not defined"
     ]
    }
   ],
   "source": [
    "mean_linear_coef[5]"
   ]
  },
  {
   "cell_type": "code",
   "execution_count": 22,
   "metadata": {},
   "outputs": [
    {
     "data": {
      "text/plain": [
       "[<matplotlib.lines.Line2D at 0x7fdd6331c2e8>]"
      ]
     },
     "execution_count": 22,
     "metadata": {},
     "output_type": "execute_result"
    },
    {
     "data": {
      "image/png": "[encoded data removed]",
      "text/plain": [
       "<Figure size 432x288 with 1 Axes>"
      ]
     },
     "metadata": {
      "needs_background": "light"
     },
     "output_type": "display_data"
    }
   ],
   "source": [
    "linear_coef_df = pd.DataFrame(data=linear_coef)\n",
    "\n",
    "mean_linear_coef=linear_coef_df.mean()\n",
    "\n",
    "plt.plot(mean_linear_coef,alpha=0.7,linestyle='none',marker='*',markersize=5,color='red',label=r'Lasso; $\\alpha = 0.05$',zorder=7) \n"
   ]
  },
  {
   "cell_type": "code",
   "execution_count": 24,
   "metadata": {},
   "outputs": [],
   "source": [
    "index = LocationCodeComprehensive==5015"
   ]
  },
  {
   "cell_type": "code",
   "execution_count": 25,
   "metadata": {},
   "outputs": [
    {
     "data": {
      "text/plain": [
       "<seaborn.axisgrid.FacetGrid at 0x7fdd6328b278>"
      ]
     },
     "execution_count": 25,
     "metadata": {},
     "output_type": "execute_result"
    },
    {
     "data": {
      "image/png": "[encoded data removed]",
      "text/plain": [
       "<Figure size 449.55x360 with 1 Axes>"
      ]
     },
     "metadata": {
      "needs_background": "light"
     },
     "output_type": "display_data"
    }
   ],
   "source": [
    "PredictionMatrix=x_linear.multiply(mean_linear_coef)\n",
    "PredictionValue=PredictionMatrix.sum(axis=1)\n",
    "\n",
    "#Put together into a single data frame so we can plot easier\n",
    "frameMVP = { 'turnover rate': turnOverRate, 'Predicted turnover': PredictionValue, 'current location': index} \n",
    "dataForPlotMVP = pd.DataFrame(frameMVP)\n",
    "sb.lmplot(x='Predicted turnover', y='turnover rate', data=dataForPlotMVP, hue = 'current location')\n",
    "\n"
   ]
  },
  {
   "cell_type": "code",
   "execution_count": 26,
   "metadata": {},
   "outputs": [
    {
     "data": {
      "text/plain": [
       "<matplotlib.axes._subplots.AxesSubplot at 0x7fdd6328b2b0>"
      ]
     },
     "execution_count": 26,
     "metadata": {},
     "output_type": "execute_result"
    },
    {
     "data": {
      "image/png": "[encoded data removed]",
      "text/plain": [
       "<Figure size 432x288 with 1 Axes>"
      ]
     },
     "metadata": {
      "needs_background": "light"
     },
     "output_type": "display_data"
    }
   ],
   "source": [
    "fig, ax = plt.subplots()\n",
    "\n",
    "sb.regplot(x='Predicted turnover', y='turnover rate', data=dataForPlotMVP, ax = ax)\n",
    "\n",
    "frameMVP2 = { 'turnover rate': turnOverRate[index], 'Predicted turnover': PredictionValue[index]} \n",
    "dataForPlotMVP2 = pd.DataFrame(frameMVP2)\n",
    "sb.scatterplot(x='Predicted turnover', y='turnover rate', data=dataForPlotMVP2, color=sb.xkcd_rgb[\"pale red\"], ax = ax)\n"
   ]
  },
  {
   "cell_type": "code",
   "execution_count": 31,
   "metadata": {},
   "outputs": [],
   "source": [
    "# Getting back the objects:\n",
    "with open('scaler.pickle', 'rb') as f:  \n",
    "    scalerEmployeeResponse, scalerOccupancyTurnover = pickle.load(f)"
   ]
  },
  {
   "cell_type": "code",
   "execution_count": 29,
   "metadata": {},
   "outputs": [],
   "source": [
    "location = 5015"
   ]
  },
  {
   "cell_type": "code",
   "execution_count": null,
   "metadata": {
    "collapsed": true
   },
   "outputs": [],
   "source": []
  },
  {
   "cell_type": "code",
   "execution_count": 45,
   "metadata": {},
   "outputs": [
    {
     "name": "stdout",
     "output_type": "stream",
     "text": [
      "1.0492875665990797\n",
      "0    0.965517\n",
      "Name: 55, dtype: float64\n"
     ]
    }
   ],
   "source": [
    "TurnOver2=TurnOver2.reset_index(drop=True)\n",
    "dataX2=dataX2.reset_index(drop=True)\n",
    "base_turnover=TurnOver2[index]\n",
    "percent_turnover = 25\n",
    "new_turnover = base_turnover*(1-(50/100))\n",
    "log_new_turnover = np.log(new_turnover+0.1)\n",
    "scaled_turnover = (log_new_turnover-scalerOccupancyTurnover.mean_[1])/scalerOccupancyTurnover.scale_[1]\n",
    "current_turnover = turnOverRate[index]\n",
    "turnover_change = scaled_turnover-current_turnover\n",
    "#currently assumes we use the top component.\n",
    "#Use the dataframe selected_features_interaction because it's column is reset.\n",
    "feature_change = turnover_change/(mean_linear_coef[0]+mean_linear_coef[3]*selected_features_interaction.loc[LocationCodeComprehensive==location,1]+mean_linear_coef[4]*selected_features_interaction.loc[LocationCodeComprehensive==location,2])\n",
    "#bring it back to what it means in the raw data scale.\n",
    "new_feature = selected_features_interaction.loc[LocationCodeComprehensive==location,0]+feature_change\n",
    "new_feature_before_scale = (new_feature*scalerEmployeeResponse.scale_[55])+scalerEmployeeResponse.mean_[55]\n",
    "new_feature_before_transform = 1.1-np.exp(0.1-new_feature_before_scale)\n",
    "\n",
    "current_feature = dataX2.loc[LocationCodeComprehensive==location,55]\n",
    "feature_change = new_feature_before_transform - current_feature\n",
    "print(new_feature_before_transform[0])\n",
    "print(current_feature)"
   ]
  },
  {
   "cell_type": "code",
   "execution_count": 28,
   "metadata": {},
   "outputs": [
    {
     "data": {
      "text/html": [
       "<div>\n",
       "<style scoped>\n",
       "    .dataframe tbody tr th:only-of-type {\n",
       "        vertical-align: middle;\n",
       "    }\n",
       "\n",
       "    .dataframe tbody tr th {\n",
       "        vertical-align: top;\n",
       "    }\n",
       "\n",
       "    .dataframe thead th {\n",
       "        text-align: right;\n",
       "    }\n",
       "</style>\n",
       "<table border=\"1\" class=\"dataframe\">\n",
       "  <thead>\n",
       "    <tr style=\"text-align: right;\">\n",
       "      <th></th>\n",
       "      <th>0</th>\n",
       "      <th>1</th>\n",
       "      <th>2</th>\n",
       "      <th>3</th>\n",
       "      <th>4</th>\n",
       "      <th>5</th>\n",
       "    </tr>\n",
       "  </thead>\n",
       "  <tbody>\n",
       "    <tr>\n",
       "      <th>0</th>\n",
       "      <td>0.467229</td>\n",
       "      <td>-1.180298</td>\n",
       "      <td>1.103600</td>\n",
       "      <td>-0.551469</td>\n",
       "      <td>0.515634</td>\n",
       "      <td>-1.302577</td>\n",
       "    </tr>\n",
       "    <tr>\n",
       "      <th>1</th>\n",
       "      <td>-1.504403</td>\n",
       "      <td>-1.045167</td>\n",
       "      <td>-0.092121</td>\n",
       "      <td>1.572352</td>\n",
       "      <td>0.138588</td>\n",
       "      <td>0.096282</td>\n",
       "    </tr>\n",
       "    <tr>\n",
       "      <th>2</th>\n",
       "      <td>0.888779</td>\n",
       "      <td>0.775737</td>\n",
       "      <td>-0.562840</td>\n",
       "      <td>0.689458</td>\n",
       "      <td>-0.500240</td>\n",
       "      <td>-0.436616</td>\n",
       "    </tr>\n",
       "    <tr>\n",
       "      <th>3</th>\n",
       "      <td>-0.026882</td>\n",
       "      <td>-0.108571</td>\n",
       "      <td>-0.092121</td>\n",
       "      <td>0.002919</td>\n",
       "      <td>0.002476</td>\n",
       "      <td>0.010002</td>\n",
       "    </tr>\n",
       "    <tr>\n",
       "      <th>4</th>\n",
       "      <td>0.679443</td>\n",
       "      <td>-0.224316</td>\n",
       "      <td>-1.280074</td>\n",
       "      <td>-0.152410</td>\n",
       "      <td>-0.869737</td>\n",
       "      <td>0.287141</td>\n",
       "    </tr>\n",
       "  </tbody>\n",
       "</table>\n",
       "</div>"
      ],
      "text/plain": [
       "          0         1         2         3         4         5\n",
       "0  0.467229 -1.180298  1.103600 -0.551469  0.515634 -1.302577\n",
       "1 -1.504403 -1.045167 -0.092121  1.572352  0.138588  0.096282\n",
       "2  0.888779  0.775737 -0.562840  0.689458 -0.500240 -0.436616\n",
       "3 -0.026882 -0.108571 -0.092121  0.002919  0.002476  0.010002\n",
       "4  0.679443 -0.224316 -1.280074 -0.152410 -0.869737  0.287141"
      ]
     },
     "execution_count": 28,
     "metadata": {},
     "output_type": "execute_result"
    }
   ],
   "source": [
    "selected_features_interaction.head()"
   ]
  },
  {
   "cell_type": "code",
   "execution_count": 46,
   "metadata": {},
   "outputs": [
    {
     "data": {
      "text/plain": [
       "(0.38014280864088534, 2.9262203153695e-10)"
      ]
     },
     "execution_count": 46,
     "metadata": {},
     "output_type": "execute_result"
    }
   ],
   "source": [
    "pearsonr(PredictionValue, turnOverRate)"
   ]
  },
  {
   "cell_type": "code",
   "execution_count": 27,
   "metadata": {},
   "outputs": [],
   "source": [
    "#From Fabian Pedregosa-Izquierdo, f@bianp.net\n",
    "import numpy as np\n",
    "from scipy import stats, linalg\n",
    "\n",
    "def partial_corr(C):\n",
    "    \"\"\"\n",
    "    Returns the sample linear partial correlation coefficients between pairs of variables in C, controlling \n",
    "    for the remaining variables in C.\n",
    "    Parameters\n",
    "    ----------\n",
    "    C : array-like, shape (n, p)\n",
    "        Array with the different variables. Each column of C is taken as a variable\n",
    "    Returns\n",
    "    -------\n",
    "    P : array-like, shape (p, p)\n",
    "        P[i, j] contains the partial correlation of C[:, i] and C[:, j] controlling\n",
    "        for the remaining variables in C.\n",
    "    \"\"\"\n",
    "    \n",
    "    C = np.asarray(C)\n",
    "    p = C.shape[1]\n",
    "    P_corr = np.zeros((p, p), dtype=np.float)\n",
    "    for i in range(p):\n",
    "        P_corr[i, i] = 1\n",
    "        for j in range(i+1, p):\n",
    "            idx = np.ones(p, dtype=np.bool)\n",
    "            idx[i] = False\n",
    "            idx[j] = False\n",
    "            beta_i = linalg.lstsq(C[:, idx], C[:, j])[0]\n",
    "            beta_j = linalg.lstsq(C[:, idx], C[:, i])[0]\n",
    "\n",
    "            res_j = C[:, j] - C[:, idx].dot( beta_i)\n",
    "            res_i = C[:, i] - C[:, idx].dot(beta_j)\n",
    "            \n",
    "            corr = stats.pearsonr(res_i, res_j)[0]\n",
    "            P_corr[i, j] = corr\n",
    "            P_corr[j, i] = corr\n",
    "        \n",
    "    return P_corr\n",
    "\n",
    "turnOver_features = pd.concat([turnOverRate, selected_features], axis = 1)\n",
    "partial_corr_array = turnOver_features.to_numpy()\n",
    "\n",
    "# Calculate the partial correlation coefficients\n",
    "partial_corr_results = partial_corr(partial_corr_array)"
   ]
  },
  {
   "cell_type": "code",
   "execution_count": 27,
   "metadata": {},
   "outputs": [
    {
     "data": {
      "text/html": [
       "<div>\n",
       "<style scoped>\n",
       "    .dataframe tbody tr th:only-of-type {\n",
       "        vertical-align: middle;\n",
       "    }\n",
       "\n",
       "    .dataframe tbody tr th {\n",
       "        vertical-align: top;\n",
       "    }\n",
       "\n",
       "    .dataframe thead th {\n",
       "        text-align: right;\n",
       "    }\n",
       "</style>\n",
       "<table border=\"1\" class=\"dataframe\">\n",
       "  <thead>\n",
       "    <tr style=\"text-align: right;\">\n",
       "      <th></th>\n",
       "      <th>0</th>\n",
       "      <th>1</th>\n",
       "      <th>2</th>\n",
       "      <th>3</th>\n",
       "    </tr>\n",
       "  </thead>\n",
       "  <tbody>\n",
       "    <tr>\n",
       "      <th>0</th>\n",
       "      <td>1.000000</td>\n",
       "      <td>-0.285774</td>\n",
       "      <td>-0.180665</td>\n",
       "      <td>0.209384</td>\n",
       "    </tr>\n",
       "    <tr>\n",
       "      <th>1</th>\n",
       "      <td>-0.285774</td>\n",
       "      <td>1.000000</td>\n",
       "      <td>0.116342</td>\n",
       "      <td>0.644236</td>\n",
       "    </tr>\n",
       "    <tr>\n",
       "      <th>2</th>\n",
       "      <td>-0.180665</td>\n",
       "      <td>0.116342</td>\n",
       "      <td>1.000000</td>\n",
       "      <td>-0.175639</td>\n",
       "    </tr>\n",
       "    <tr>\n",
       "      <th>3</th>\n",
       "      <td>0.209384</td>\n",
       "      <td>0.644236</td>\n",
       "      <td>-0.175639</td>\n",
       "      <td>1.000000</td>\n",
       "    </tr>\n",
       "  </tbody>\n",
       "</table>\n",
       "</div>"
      ],
      "text/plain": [
       "          0         1         2         3\n",
       "0  1.000000 -0.285774 -0.180665  0.209384\n",
       "1 -0.285774  1.000000  0.116342  0.644236\n",
       "2 -0.180665  0.116342  1.000000 -0.175639\n",
       "3  0.209384  0.644236 -0.175639  1.000000"
      ]
     },
     "execution_count": 27,
     "metadata": {},
     "output_type": "execute_result"
    }
   ],
   "source": [
    "partial_corr_results_df = pd.DataFrame(data=partial_corr_results)\n",
    "partial_corr_results_df.head()"
   ]
  },
  {
   "cell_type": "code",
   "execution_count": 28,
   "metadata": {},
   "outputs": [
    {
     "data": {
      "text/plain": [
       "<matplotlib.axes._subplots.AxesSubplot at 0x7fb125a8b080>"
      ]
     },
     "execution_count": 28,
     "metadata": {},
     "output_type": "execute_result"
    },
    {
     "data": {
      "image/png": "[encoded data removed]",
      "text/plain": [
       "<Figure size 432x432 with 2 Axes>"
      ]
     },
     "metadata": {
      "needs_background": "light"
     },
     "output_type": "display_data"
    }
   ],
   "source": [
    "f, ax = plt.subplots(figsize=(6, 6))\n",
    "sb.heatmap(partial_corr_results, annot=True, linewidths=.5, ax=ax)"
   ]
  },
  {
   "cell_type": "code",
   "execution_count": 25,
   "metadata": {},
   "outputs": [
    {
     "data": {
      "text/plain": [
       "(257, 60)"
      ]
     },
     "execution_count": 25,
     "metadata": {},
     "output_type": "execute_result"
    }
   ],
   "source": [
    "questionare=all_features.iloc[:,0:60]\n",
    "questionare.shape"
   ]
  },
  {
   "cell_type": "code",
   "execution_count": 29,
   "metadata": {},
   "outputs": [
    {
     "data": {
      "text/plain": [
       "<seaborn.axisgrid.FacetGrid at 0x7fb126523780>"
      ]
     },
     "execution_count": 29,
     "metadata": {},
     "output_type": "execute_result"
    },
    {
     "data": {
      "image/png": "[encoded data removed]",
      "text/plain": [
       "<Figure size 360x360 with 1 Axes>"
      ]
     },
     "metadata": {
      "needs_background": "light"
     },
     "output_type": "display_data"
    }
   ],
   "source": [
    "\n",
    "#Put together into a single data frame so we can plot easier\n",
    "frameMVP = { 'turnover rate': turnOverRate, 'Provide excellent service': all_features.iloc[:,55]} \n",
    "dataForPlotMVP = pd.DataFrame(frameMVP)\n",
    "# Recommended way\n",
    "sb.lmplot(x='Provide excellent service', y='turnover rate', data=dataForPlotMVP)\n",
    "\n",
    "\n"
   ]
  },
  {
   "cell_type": "code",
   "execution_count": 23,
   "metadata": {},
   "outputs": [
    {
     "data": {
      "text/plain": [
       "<seaborn.axisgrid.FacetGrid at 0x7f3be7d22860>"
      ]
     },
     "execution_count": 23,
     "metadata": {},
     "output_type": "execute_result"
    },
    {
     "data": {
      "image/png": "[encoded data removed]",
      "text/plain": [
       "<Figure size 360x360 with 1 Axes>"
      ]
     },
     "metadata": {
      "needs_background": "light"
     },
     "output_type": "display_data"
    }
   ],
   "source": [
    "#Put together into a single data frame so we can plot easier\n",
    "frameMVP = { 'turnover rate': turnOverRate, 'Want to work for a long time': all_features.iloc[:,47]} \n",
    "dataForPlotMVP = pd.DataFrame(frameMVP)\n",
    "# Recommended way\n",
    "sb.lmplot(x='Want to work for a long time', y='turnover rate', data=dataForPlotMVP)\n",
    "\n"
   ]
  },
  {
   "cell_type": "code",
   "execution_count": 28,
   "metadata": {},
   "outputs": [],
   "source": [
    "#Now calulate for all the features in the questionare. \n",
    "\n",
    "turnOver_questionare = pd.concat([turnOverRate, questionare], axis = 1)\n",
    "partial_corr_array2 = turnOver_questionare.to_numpy()\n",
    "\n",
    "# Calculate the partial correlation coefficients\n",
    "partial_corr_results2 = partial_corr(partial_corr_array2)"
   ]
  },
  {
   "cell_type": "code",
   "execution_count": 31,
   "metadata": {},
   "outputs": [
    {
     "data": {
      "text/plain": [
       "0.06233445098667855"
      ]
     },
     "execution_count": 31,
     "metadata": {},
     "output_type": "execute_result"
    }
   ],
   "source": [
    "partial_corr_results2[0,48]"
   ]
  },
  {
   "cell_type": "code",
   "execution_count": 32,
   "metadata": {},
   "outputs": [
    {
     "data": {
      "text/plain": [
       "(-0.067132823872621, 0.28363705247997695)"
      ]
     },
     "execution_count": 32,
     "metadata": {},
     "output_type": "execute_result"
    }
   ],
   "source": [
    "pearsonr(all_features.iloc[:,47], turnOverRate)"
   ]
  },
  {
   "cell_type": "code",
   "execution_count": null,
   "metadata": {},
   "outputs": [],
   "source": []
  }
 ],
 "metadata": {
  "anaconda-cloud": {},
  "kernelspec": {
   "display_name": "Python 3",
   "language": "python",
   "name": "python3"
  },
  "language_info": {
   "codemirror_mode": {
    "name": "ipython",
    "version": 3
   },
   "file_extension": ".py",
   "mimetype": "text/x-python",
   "name": "python",
   "nbconvert_exporter": "python",
   "pygments_lexer": "ipython3",
   "version": "3.6.10"
  }
 },
 "nbformat": 4,
 "nbformat_minor": 2
}
