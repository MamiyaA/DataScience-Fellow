{
 "cells": [
  {
   "cell_type": "markdown",
   "metadata": {},
   "source": [
    "# Adding employee salary to April 2018 summary data set\n",
    "\n",
    "### Reads in the extra data set from an excel file (renamed to /datasets/ActivatedInsights/ExtraDataForAkira.xlsx)¶\n",
    "\n",
    "- Chose the correct location code and make a dataframe that contains median salary for each location.\n",
    "- Perform the appropriate transformation (for skewed data)\n",
    "- Normalize and standardize the data\n",
    "\n",
    "### Save salary data (as .pkl file)\n",
    "\n",
    "- Save the employee median salary for each location.\n"
   ]
  },
  {
   "cell_type": "code",
   "execution_count": 1,
   "metadata": {},
   "outputs": [],
   "source": [
    "import numpy as np\n",
    "import pandas as pd\n",
    "import os\n",
    "\n",
    "\n",
    "import matplotlib.pyplot as plt\n",
    "import seaborn as sb\n",
    "color = sb.color_palette()\n",
    "import matplotlib as mpl\n",
    "\n",
    "%matplotlib inline\n",
    "\n",
    "from sklearn import preprocessing as pp "
   ]
  },
  {
   "cell_type": "markdown",
   "metadata": {},
   "source": [
    "### Read the excel file that shows annual salary for individual employees"
   ]
  },
  {
   "cell_type": "code",
   "execution_count": 2,
   "metadata": {},
   "outputs": [],
   "source": [
    "#Read the new excel file, this contains the annual pay for indiviual employees\n",
    "current_path = os.getcwd()\n",
    "file = '/datasets/ActivatedInsights/ExtraDataForAkira.xlsx'\n",
    "data1 = pd.read_excel(current_path + file)"
   ]
  },
  {
   "cell_type": "code",
   "execution_count": 3,
   "metadata": {},
   "outputs": [
    {
     "data": {
      "text/html": [
       "<div>\n",
       "<style scoped>\n",
       "    .dataframe tbody tr th:only-of-type {\n",
       "        vertical-align: middle;\n",
       "    }\n",
       "\n",
       "    .dataframe tbody tr th {\n",
       "        vertical-align: top;\n",
       "    }\n",
       "\n",
       "    .dataframe thead th {\n",
       "        text-align: right;\n",
       "    }\n",
       "</style>\n",
       "<table border=\"1\" class=\"dataframe\">\n",
       "  <thead>\n",
       "    <tr style=\"text-align: right;\">\n",
       "      <th></th>\n",
       "      <th>OLD # May 2018 Location Code</th>\n",
       "      <th>New # May 2019 Location Code</th>\n",
       "      <th>Department- Updated</th>\n",
       "      <th>LGBT</th>\n",
       "      <th>Managerial Level- Updated</th>\n",
       "      <th>Meaningful Innovation Opportunities</th>\n",
       "      <th>Pay Type</th>\n",
       "      <th>Responsibility</th>\n",
       "      <th>Role</th>\n",
       "      <th>Tenure</th>\n",
       "      <th>Work Status</th>\n",
       "      <th>Annual pay</th>\n",
       "      <th>zip(home)</th>\n",
       "      <th>Job Title</th>\n",
       "      <th>Action/Reason Description</th>\n",
       "      <th>Voluntary/Involuntary</th>\n",
       "    </tr>\n",
       "  </thead>\n",
       "  <tbody>\n",
       "    <tr>\n",
       "      <th>0</th>\n",
       "      <td>1075.0</td>\n",
       "      <td>1075.0</td>\n",
       "      <td>Admin</td>\n",
       "      <td>Yes</td>\n",
       "      <td>Employee-IC</td>\n",
       "      <td>A lot</td>\n",
       "      <td>Hourly</td>\n",
       "      <td>Neither children nor elders</td>\n",
       "      <td>RECRUITING PROGRAM COORDINATOR</td>\n",
       "      <td>6 months to 9 months</td>\n",
       "      <td>Full-time</td>\n",
       "      <td>52000.0</td>\n",
       "      <td>32806</td>\n",
       "      <td>RECRUITING PROGRAM COORDINATOR</td>\n",
       "      <td>NaN</td>\n",
       "      <td>NaN</td>\n",
       "    </tr>\n",
       "    <tr>\n",
       "      <th>1</th>\n",
       "      <td>5504.0</td>\n",
       "      <td>5954.0</td>\n",
       "      <td>Activities</td>\n",
       "      <td>No</td>\n",
       "      <td>Employee-IC</td>\n",
       "      <td>A lot</td>\n",
       "      <td>Hourly</td>\n",
       "      <td>Both children and elders</td>\n",
       "      <td>ENRICHMENT COORDINATOR</td>\n",
       "      <td>9 months to 1 year</td>\n",
       "      <td>Full-time</td>\n",
       "      <td>33280.0</td>\n",
       "      <td>80212</td>\n",
       "      <td>ENRICHMENT COORDINATOR</td>\n",
       "      <td>Resignation</td>\n",
       "      <td>Voluntary</td>\n",
       "    </tr>\n",
       "    <tr>\n",
       "      <th>2</th>\n",
       "      <td>5504.0</td>\n",
       "      <td>5954.0</td>\n",
       "      <td>Housekeeping-Maint-Sec</td>\n",
       "      <td>No</td>\n",
       "      <td>Frontline manager</td>\n",
       "      <td>A lot</td>\n",
       "      <td>Hourly</td>\n",
       "      <td>Both children and elders</td>\n",
       "      <td>HEAD HOUSEKEEPER</td>\n",
       "      <td>Over 20 years</td>\n",
       "      <td>Full-time</td>\n",
       "      <td>34632.0</td>\n",
       "      <td>80226</td>\n",
       "      <td>HEAD HOUSEKEEPER</td>\n",
       "      <td>NaN</td>\n",
       "      <td>NaN</td>\n",
       "    </tr>\n",
       "    <tr>\n",
       "      <th>3</th>\n",
       "      <td>5504.0</td>\n",
       "      <td>5954.0</td>\n",
       "      <td>Admin</td>\n",
       "      <td>No</td>\n",
       "      <td>Frontline manager</td>\n",
       "      <td>A lot</td>\n",
       "      <td>Hourly</td>\n",
       "      <td>Elders</td>\n",
       "      <td>ASSISTANT GENERAL MANAGER</td>\n",
       "      <td>1 year to 2 years</td>\n",
       "      <td>Full-time</td>\n",
       "      <td>45177.6</td>\n",
       "      <td>80107</td>\n",
       "      <td>ASSISTANT GENERAL MANAGER</td>\n",
       "      <td>Resignation</td>\n",
       "      <td>Voluntary</td>\n",
       "    </tr>\n",
       "    <tr>\n",
       "      <th>4</th>\n",
       "      <td>5504.0</td>\n",
       "      <td>5954.0</td>\n",
       "      <td>Housekeeping-Maint-Sec</td>\n",
       "      <td>No</td>\n",
       "      <td>Employee-IC</td>\n",
       "      <td>A lot</td>\n",
       "      <td>Hourly</td>\n",
       "      <td>Both children and elders</td>\n",
       "      <td>HOUSEKEEPING (CLEANING)</td>\n",
       "      <td>1 year to 2 years</td>\n",
       "      <td>Full-time</td>\n",
       "      <td>29120.0</td>\n",
       "      <td>80219</td>\n",
       "      <td>HOUSEKEEPING (CLEANING)</td>\n",
       "      <td>NaN</td>\n",
       "      <td>NaN</td>\n",
       "    </tr>\n",
       "  </tbody>\n",
       "</table>\n",
       "</div>"
      ],
      "text/plain": [
       "   OLD # May 2018 Location Code  New # May 2019 Location Code  \\\n",
       "0                        1075.0                        1075.0   \n",
       "1                        5504.0                        5954.0   \n",
       "2                        5504.0                        5954.0   \n",
       "3                        5504.0                        5954.0   \n",
       "4                        5504.0                        5954.0   \n",
       "\n",
       "      Department- Updated LGBT Managerial Level- Updated  \\\n",
       "0                   Admin  Yes               Employee-IC   \n",
       "1              Activities   No               Employee-IC   \n",
       "2  Housekeeping-Maint-Sec   No         Frontline manager   \n",
       "3                   Admin   No         Frontline manager   \n",
       "4  Housekeeping-Maint-Sec   No               Employee-IC   \n",
       "\n",
       "  Meaningful Innovation Opportunities Pay Type               Responsibility  \\\n",
       "0                               A lot   Hourly  Neither children nor elders   \n",
       "1                               A lot   Hourly     Both children and elders   \n",
       "2                               A lot   Hourly     Both children and elders   \n",
       "3                               A lot   Hourly                       Elders   \n",
       "4                               A lot   Hourly     Both children and elders   \n",
       "\n",
       "                             Role                Tenure Work Status  \\\n",
       "0  RECRUITING PROGRAM COORDINATOR  6 months to 9 months   Full-time   \n",
       "1          ENRICHMENT COORDINATOR    9 months to 1 year   Full-time   \n",
       "2                HEAD HOUSEKEEPER         Over 20 years   Full-time   \n",
       "3       ASSISTANT GENERAL MANAGER     1 year to 2 years   Full-time   \n",
       "4         HOUSEKEEPING (CLEANING)     1 year to 2 years   Full-time   \n",
       "\n",
       "   Annual pay zip(home)                       Job Title  \\\n",
       "0     52000.0     32806  RECRUITING PROGRAM COORDINATOR   \n",
       "1     33280.0     80212          ENRICHMENT COORDINATOR   \n",
       "2     34632.0     80226                HEAD HOUSEKEEPER   \n",
       "3     45177.6     80107       ASSISTANT GENERAL MANAGER   \n",
       "4     29120.0     80219         HOUSEKEEPING (CLEANING)   \n",
       "\n",
       "  Action/Reason Description Voluntary/Involuntary  \n",
       "0                       NaN                   NaN  \n",
       "1               Resignation             Voluntary  \n",
       "2                       NaN                   NaN  \n",
       "3               Resignation             Voluntary  \n",
       "4                       NaN                   NaN  "
      ]
     },
     "execution_count": 3,
     "metadata": {},
     "output_type": "execute_result"
    }
   ],
   "source": [
    "#Confirm data\n",
    "data1.head()"
   ]
  },
  {
   "cell_type": "code",
   "execution_count": 4,
   "metadata": {
    "scrolled": true
   },
   "outputs": [],
   "source": [
    "#Rename columns to remove the space and make it shorter.\n",
    "data1.rename(columns = {'OLD # May 2018 Location Code':'LocationCode2018'}, inplace = True) \n",
    "data1.rename(columns = {'New # May 2019 Location Code':'LocationCode2019'}, inplace = True) \n",
    "data1.rename(columns = {'Annual pay':'AnnualPay'}, inplace = True) "
   ]
  },
  {
   "cell_type": "markdown",
   "metadata": {},
   "source": [
    "### Load the 2018 May data to get the location code for the dataset. "
   ]
  },
  {
   "cell_type": "code",
   "execution_count": 5,
   "metadata": {},
   "outputs": [],
   "source": [
    "#Load the 2018 May dataset.\n",
    "#Read Excel data provided. Read the first tab.\n",
    "current_path = os.getcwd()\n",
    "file2 = '/datasets/ActivatedInsights/ActivatedInsight.xlsx'\n",
    "data2 = pd.read_excel(current_path + file2)\n",
    "\n",
    "#First two rows are excel column names that only exists for some columns. Remove them for now.\n",
    "#Also some of the last few rows have no data in most columns.\n",
    "data2 = data2.iloc[2:-13]\n",
    "#LocationCode will contain the column for the location code for this study use the May 2019 code\n",
    "LocationCode_for_data = data2.iloc[:,2]"
   ]
  },
  {
   "cell_type": "markdown",
   "metadata": {},
   "source": [
    "### Go through each location and calculate the median salary for each location"
   ]
  },
  {
   "cell_type": "code",
   "execution_count": 6,
   "metadata": {},
   "outputs": [],
   "source": [
    "#get median pay for each location. Go through the location code and get the data\n",
    "#Ignore NaN (default)\n",
    "\n",
    "location_pay = np.zeros((LocationCode_for_data.shape[0],1))\n",
    "\n",
    "#Get the data for each location, calculate the median pay for that location\n",
    "for index in range(LocationCode_for_data.shape[0]):\n",
    "    location_data=data1.loc[data1['LocationCode2019'] == LocationCode_for_data.iloc[index],'AnnualPay']\n",
    "    #calculate the media for that location\n",
    "    location_pay[index] = location_data.median()\n",
    "location_pay = pd.DataFrame(data=location_pay)"
   ]
  },
  {
   "cell_type": "code",
   "execution_count": 7,
   "metadata": {},
   "outputs": [
    {
     "data": {
      "text/plain": [
       "array([[<matplotlib.axes._subplots.AxesSubplot object at 0x7fcd386fa940>]],\n",
       "      dtype=object)"
      ]
     },
     "execution_count": 7,
     "metadata": {},
     "output_type": "execute_result"
    },
    {
     "data": {
      "image/png": "[encoded data removed]",
      "text/plain": [
       "<Figure size 432x288 with 1 Axes>"
      ]
     },
     "metadata": {
      "needs_background": "light"
     },
     "output_type": "display_data"
    }
   ],
   "source": [
    "#Show the distribution of the median salary for each location\n",
    "location_pay.hist()"
   ]
  },
  {
   "cell_type": "markdown",
   "metadata": {},
   "source": [
    "### Standardize the data"
   ]
  },
  {
   "cell_type": "code",
   "execution_count": 8,
   "metadata": {
    "scrolled": true
   },
   "outputs": [
    {
     "data": {
      "text/plain": [
       "array([[<matplotlib.axes._subplots.AxesSubplot object at 0x7fcd38a4ba58>]],\n",
       "      dtype=object)"
      ]
     },
     "execution_count": 8,
     "metadata": {},
     "output_type": "execute_result"
    },
    {
     "data": {
      "image/png": "[encoded data removed]",
      "text/plain": [
       "<Figure size 432x288 with 1 Axes>"
      ]
     },
     "metadata": {
      "needs_background": "light"
     },
     "output_type": "display_data"
    }
   ],
   "source": [
    "#Scale and standardize\n",
    "scaler_location_pay = pp.StandardScaler().fit(location_pay)\n",
    "location_payS = scaler_location_pay.transform(location_pay)\n",
    "location_payS_df=pd.DataFrame(data=location_payS)\n",
    "location_payS_df.hist()"
   ]
  },
  {
   "cell_type": "markdown",
   "metadata": {},
   "source": [
    "### Save the data as a .pkl file"
   ]
  },
  {
   "cell_type": "code",
   "execution_count": 9,
   "metadata": {},
   "outputs": [],
   "source": [
    "location_payS_df.to_pickle(\"./location_pay.pkl\")"
   ]
  }
 ],
 "metadata": {
  "anaconda-cloud": {},
  "kernelspec": {
   "display_name": "Python 3",
   "language": "python",
   "name": "python3"
  },
  "language_info": {
   "codemirror_mode": {
    "name": "ipython",
    "version": 3
   },
   "file_extension": ".py",
   "mimetype": "text/x-python",
   "name": "python",
   "nbconvert_exporter": "python",
   "pygments_lexer": "ipython3",
   "version": "3.6.10"
  }
 },
 "nbformat": 4,
 "nbformat_minor": 2
}
