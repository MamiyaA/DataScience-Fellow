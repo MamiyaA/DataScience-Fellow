{
 "cells": [
  {
   "cell_type": "code",
   "execution_count": 1,
   "metadata": {},
   "outputs": [
    {
     "name": "stderr",
     "output_type": "stream",
     "text": [
      "Using TensorFlow backend.\n",
      "/home/akira/anaconda3/envs/unsupervisedLearning/lib/python3.6/site-packages/tensorflow/python/framework/dtypes.py:523: FutureWarning: Passing (type, 1) or '1type' as a synonym of type is deprecated; in a future version of numpy, it will be understood as (type, (1,)) / '(1,)type'.\n",
      "  _np_qint8 = np.dtype([(\"qint8\", np.int8, 1)])\n",
      "/home/akira/anaconda3/envs/unsupervisedLearning/lib/python3.6/site-packages/tensorflow/python/framework/dtypes.py:524: FutureWarning: Passing (type, 1) or '1type' as a synonym of type is deprecated; in a future version of numpy, it will be understood as (type, (1,)) / '(1,)type'.\n",
      "  _np_quint8 = np.dtype([(\"quint8\", np.uint8, 1)])\n",
      "/home/akira/anaconda3/envs/unsupervisedLearning/lib/python3.6/site-packages/tensorflow/python/framework/dtypes.py:525: FutureWarning: Passing (type, 1) or '1type' as a synonym of type is deprecated; in a future version of numpy, it will be understood as (type, (1,)) / '(1,)type'.\n",
      "  _np_qint16 = np.dtype([(\"qint16\", np.int16, 1)])\n",
      "/home/akira/anaconda3/envs/unsupervisedLearning/lib/python3.6/site-packages/tensorflow/python/framework/dtypes.py:526: FutureWarning: Passing (type, 1) or '1type' as a synonym of type is deprecated; in a future version of numpy, it will be understood as (type, (1,)) / '(1,)type'.\n",
      "  _np_quint16 = np.dtype([(\"quint16\", np.uint16, 1)])\n",
      "/home/akira/anaconda3/envs/unsupervisedLearning/lib/python3.6/site-packages/tensorflow/python/framework/dtypes.py:527: FutureWarning: Passing (type, 1) or '1type' as a synonym of type is deprecated; in a future version of numpy, it will be understood as (type, (1,)) / '(1,)type'.\n",
      "  _np_qint32 = np.dtype([(\"qint32\", np.int32, 1)])\n",
      "/home/akira/anaconda3/envs/unsupervisedLearning/lib/python3.6/site-packages/tensorflow/python/framework/dtypes.py:532: FutureWarning: Passing (type, 1) or '1type' as a synonym of type is deprecated; in a future version of numpy, it will be understood as (type, (1,)) / '(1,)type'.\n",
      "  np_resource = np.dtype([(\"resource\", np.ubyte, 1)])\n"
     ]
    }
   ],
   "source": [
    "#Comment out the streamlit part.\n",
    "#Specify some numbers instead of user input\n",
    "\n",
    "#import streamlit as st\n",
    "# To make things easier later, we're also importing numpy and pandas for\n",
    "# working with sample data.\n",
    "import numpy as np\n",
    "import pandas as pd\n",
    "\n",
    "\n",
    "import matplotlib.pyplot as plt\n",
    "import seaborn as sb\n",
    "sb.set()\n",
    "color = sb.color_palette()\n",
    "import matplotlib as mpl\n",
    "import pickle\n",
    "\n",
    "from sklearn import preprocessing as pp \n",
    "#import the entire linear model\n",
    "from sklearn import linear_model\n",
    "from sklearn.linear_model import Lasso\n",
    "from sklearn.model_selection import train_test_split\n",
    "from sklearn.metrics import r2_score\n",
    "from scipy.stats import pearsonr \n",
    "from sklearn.decomposition import PCA\n",
    "from sklearn.linear_model import LassoCV\n",
    "#from sklearn.preprocessing import PolynomialFeatures\n",
    "\n",
    "from scipy.stats import wilcoxon\n",
    "\n",
    "from sklearn.linear_model import LogisticRegressionCV\n",
    "from imblearn.over_sampling import SMOTE\n",
    "from sklearn.metrics import roc_auc_score\n",
    "\n",
    "\n"
   ]
  },
  {
   "cell_type": "code",
   "execution_count": 2,
   "metadata": {},
   "outputs": [
    {
     "data": {
      "text/plain": [
       "0      5015\n",
       "1      5020\n",
       "2      5021\n",
       "3      5022\n",
       "4      5023\n",
       "       ... \n",
       "252    5946\n",
       "253    5947\n",
       "254    5948\n",
       "255    5906\n",
       "256    5907\n",
       "Length: 257, dtype: int64"
      ]
     },
     "execution_count": 2,
     "metadata": {},
     "output_type": "execute_result"
    }
   ],
   "source": [
    "\n",
    "#title of the app\n",
    "#st.title('Estimating targets for reducing employee turnover')\n",
    "\n",
    "#st.header(\"Results from 1000 repetition of Lasso regression\")\n",
    "\n",
    "# Getting back the objects:\n",
    "with open('lasso_output.pickle', 'rb') as f:  \n",
    "    test_r_squared, lasso_alpha, lasso_coef = pickle.load(f)\n",
    "\n",
    "# Getting back the objects:\n",
    "with open('scaler.pickle', 'rb') as f:  \n",
    "    scalerEmployeeResponse, scalerOccupancyTurnover = pickle.load(f)\n",
    "\n",
    "with open('original_values.pickle', 'rb') as f:  \n",
    "    TurnOver2, dataX2 = pickle.load(f)\n",
    "\n",
    "\n",
    "#loading the dataframe\n",
    "feature_set = pd.read_pickle(\"./feature_set.pkl\")\n",
    "turnOverRate = pd.read_pickle(\"./turnOverRate.pkl\")\n",
    "LocationCodeComprehensive = pd.read_pickle(\"./LocationCodeComprehensive.pkl\")\n",
    "location_pay = pd.read_pickle(\"./location_pay.pkl\")\n",
    "location_sd = pd.read_pickle(\"./location_sdS_df.pkl\")\n",
    "lasso_r_squared_df = pd.read_pickle(\"./lasso_r_squared_1000.pkl\")\n",
    "lasso_alpha_df = pd.read_pickle(\"./lasso_alpha_1000.pkl\")\n",
    "lasso_coef_df = pd.read_pickle(\"./lasso_coef_1000.pkl\")\n",
    "\n",
    "#Rename the column\n",
    "LocationCodeComprehensive.rename(columns = {'Unnamed: 2':'location code'}, inplace = True) \n",
    "\n"
   ]
  },
  {
   "cell_type": "code",
   "execution_count": 3,
   "metadata": {},
   "outputs": [
    {
     "data": {
      "image/png": "[encoded data removed]",
      "text/plain": [
       "<Figure size 432x288 with 1 Axes>"
      ]
     },
     "metadata": {
      "needs_background": "light"
     },
     "output_type": "display_data"
    }
   ],
   "source": [
    "#plot the ditribution of the coefficent of determination\n",
    "test_r_squared_df=pd.DataFrame(data=test_r_squared)\n",
    "test_r_squared_df.rename(columns = {0:'coefficient of determination'}, inplace = True) \n",
    "sb.distplot(test_r_squared_df,axlabel='coefficent of determination')\n",
    "sb.despine()\n",
    "#st.pyplot()\n"
   ]
  },
  {
   "cell_type": "code",
   "execution_count": 4,
   "metadata": {},
   "outputs": [
    {
     "data": {
      "text/plain": [
       "Text(0.5, 1.0, 'average weight for each feature')"
      ]
     },
     "execution_count": 4,
     "metadata": {},
     "output_type": "execute_result"
    },
    {
     "data": {
      "image/png": "[encoded data removed]",
      "text/plain": [
       "<Figure size 432x288 with 1 Axes>"
      ]
     },
     "metadata": {
      "needs_background": "light"
     },
     "output_type": "display_data"
    }
   ],
   "source": [
    "\n",
    "#Calculate mean and plot\n",
    "mean_coef=lasso_coef_df.mean()\n",
    "plt.plot(mean_coef,linestyle='none',marker='o',markersize=8,color='red') \n",
    "plt.xlabel('feature number')\n",
    "#plt.ylabel('average weight for each feature')\n",
    "plt.title('average weight for each feature')\n",
    "#st.pyplot()\n"
   ]
  },
  {
   "cell_type": "code",
   "execution_count": 5,
   "metadata": {},
   "outputs": [],
   "source": [
    "\n",
    "#Chose top coefficients.\n",
    "abs_mean_coef=abs(mean_coef)\n",
    "top_coef=abs_mean_coef.sort_values(ascending=False)\n",
    "\n",
    "all_features = pd.concat([feature_set,location_pay,location_sd], axis = 1)\n",
    "\n",
    "\n"
   ]
  },
  {
   "cell_type": "code",
   "execution_count": 32,
   "metadata": {},
   "outputs": [],
   "source": [
    "#Side bar with choice of location\n",
    "#location = st.sidebar.selectbox(\n",
    "#    'Select your location',\n",
    "#     LocationCodeComprehensive)\n",
    "#Side bar with choice of number of features \n",
    "#NofFeatures = st.sidebar.slider(\n",
    "#    'Number of features to use',\n",
    "#    0, 65, (3))\n",
    "\n",
    "#Side bar with choice of number of training \n",
    "#NofTraining = st.sidebar.slider(\n",
    "#    'Number of training (linear regression with interaction)',\n",
    "#    1, 1000, (300))\n",
    "\n",
    "#Side bar with choice for the percentage reduction in turnover rate \n",
    "#percent_turnover = st.sidebar.slider(\n",
    "#    'turnover reduction goal (%)',\n",
    "#    1, 100, (10))\n",
    "\n",
    "#Specific for Jupyter notebook. specify the user inputs\n",
    "location = LocationCodeComprehensive[5]\n",
    "NofFeatures = 3\n",
    "NofTraining = 300\n",
    "percent_turnover = 10\n",
    "\n",
    "#'Current location:', location\n",
    "#'Number of features to use:', NofFeatures\n",
    "#'Training number:', NofTraining\n",
    "#'Reducing turn over by (%):', percent_turnover\n",
    "\n"
   ]
  },
  {
   "cell_type": "code",
   "execution_count": 41,
   "metadata": {},
   "outputs": [
    {
     "data": {
      "text/html": [
       "<div>\n",
       "<style scoped>\n",
       "    .dataframe tbody tr th:only-of-type {\n",
       "        vertical-align: middle;\n",
       "    }\n",
       "\n",
       "    .dataframe tbody tr th {\n",
       "        vertical-align: top;\n",
       "    }\n",
       "\n",
       "    .dataframe thead th {\n",
       "        text-align: right;\n",
       "    }\n",
       "</style>\n",
       "<table border=\"1\" class=\"dataframe\">\n",
       "  <thead>\n",
       "    <tr style=\"text-align: right;\">\n",
       "      <th></th>\n",
       "      <th>0</th>\n",
       "      <th>1</th>\n",
       "      <th>2</th>\n",
       "      <th>3</th>\n",
       "      <th>4</th>\n",
       "      <th>5</th>\n",
       "    </tr>\n",
       "  </thead>\n",
       "  <tbody>\n",
       "    <tr>\n",
       "      <th>0</th>\n",
       "      <td>0.467229</td>\n",
       "      <td>-1.180298</td>\n",
       "      <td>1.103600</td>\n",
       "      <td>-0.551469</td>\n",
       "      <td>0.515634</td>\n",
       "      <td>-1.302577</td>\n",
       "    </tr>\n",
       "    <tr>\n",
       "      <th>1</th>\n",
       "      <td>-1.504403</td>\n",
       "      <td>-1.045167</td>\n",
       "      <td>-0.092121</td>\n",
       "      <td>1.572352</td>\n",
       "      <td>0.138588</td>\n",
       "      <td>0.096282</td>\n",
       "    </tr>\n",
       "    <tr>\n",
       "      <th>2</th>\n",
       "      <td>0.888779</td>\n",
       "      <td>0.775737</td>\n",
       "      <td>-0.562840</td>\n",
       "      <td>0.689458</td>\n",
       "      <td>-0.500240</td>\n",
       "      <td>-0.436616</td>\n",
       "    </tr>\n",
       "    <tr>\n",
       "      <th>3</th>\n",
       "      <td>-0.026882</td>\n",
       "      <td>-0.108571</td>\n",
       "      <td>-0.092121</td>\n",
       "      <td>0.002919</td>\n",
       "      <td>0.002476</td>\n",
       "      <td>0.010002</td>\n",
       "    </tr>\n",
       "    <tr>\n",
       "      <th>4</th>\n",
       "      <td>0.679443</td>\n",
       "      <td>-0.224316</td>\n",
       "      <td>-1.280074</td>\n",
       "      <td>-0.152410</td>\n",
       "      <td>-0.869737</td>\n",
       "      <td>0.287141</td>\n",
       "    </tr>\n",
       "    <tr>\n",
       "      <th>5</th>\n",
       "      <td>0.147224</td>\n",
       "      <td>-0.073625</td>\n",
       "      <td>0.954911</td>\n",
       "      <td>-0.010839</td>\n",
       "      <td>0.140586</td>\n",
       "      <td>-0.070305</td>\n",
       "    </tr>\n",
       "    <tr>\n",
       "      <th>6</th>\n",
       "      <td>-0.722633</td>\n",
       "      <td>0.888745</td>\n",
       "      <td>-0.854913</td>\n",
       "      <td>-0.642237</td>\n",
       "      <td>0.617788</td>\n",
       "      <td>-0.759800</td>\n",
       "    </tr>\n",
       "    <tr>\n",
       "      <th>7</th>\n",
       "      <td>-1.234217</td>\n",
       "      <td>0.051929</td>\n",
       "      <td>-1.190831</td>\n",
       "      <td>-0.064092</td>\n",
       "      <td>1.469744</td>\n",
       "      <td>-0.061839</td>\n",
       "    </tr>\n",
       "    <tr>\n",
       "      <th>8</th>\n",
       "      <td>0.106387</td>\n",
       "      <td>0.231249</td>\n",
       "      <td>1.243807</td>\n",
       "      <td>0.024602</td>\n",
       "      <td>0.132325</td>\n",
       "      <td>0.287629</td>\n",
       "    </tr>\n",
       "    <tr>\n",
       "      <th>9</th>\n",
       "      <td>-0.355472</td>\n",
       "      <td>0.808273</td>\n",
       "      <td>-0.340024</td>\n",
       "      <td>-0.287318</td>\n",
       "      <td>0.120869</td>\n",
       "      <td>-0.274832</td>\n",
       "    </tr>\n",
       "  </tbody>\n",
       "</table>\n",
       "</div>"
      ],
      "text/plain": [
       "          0         1         2         3         4         5\n",
       "0  0.467229 -1.180298  1.103600 -0.551469  0.515634 -1.302577\n",
       "1 -1.504403 -1.045167 -0.092121  1.572352  0.138588  0.096282\n",
       "2  0.888779  0.775737 -0.562840  0.689458 -0.500240 -0.436616\n",
       "3 -0.026882 -0.108571 -0.092121  0.002919  0.002476  0.010002\n",
       "4  0.679443 -0.224316 -1.280074 -0.152410 -0.869737  0.287141\n",
       "5  0.147224 -0.073625  0.954911 -0.010839  0.140586 -0.070305\n",
       "6 -0.722633  0.888745 -0.854913 -0.642237  0.617788 -0.759800\n",
       "7 -1.234217  0.051929 -1.190831 -0.064092  1.469744 -0.061839\n",
       "8  0.106387  0.231249  1.243807  0.024602  0.132325  0.287629\n",
       "9 -0.355472  0.808273 -0.340024 -0.287318  0.120869 -0.274832"
      ]
     },
     "execution_count": 41,
     "metadata": {},
     "output_type": "execute_result"
    }
   ],
   "source": [
    "#run linear regression with the chosen number of figures and plot all the data point against the predicted values for that data.\n",
    "\n",
    "#Choose the features with top n coefficients \n",
    "features_number = NofFeatures\n",
    "selected_features = all_features.iloc[:,top_coef.index[0]]\n",
    "\n",
    "for features in range(features_number-1):\n",
    "    selected_features = pd.concat([selected_features, all_features.iloc[:,top_coef.index[features+1]]], axis = 1)\n",
    "\n",
    "#Show features and questions.\n",
    "#This iteration has hard coded text (results are already known).\n",
    "\n",
    "#st.header(\"Top 5 features by average absolute weight\")\n",
    "\n",
    "#Reduce the significant digits to 2.\n",
    "#mean_coef_reduced = top_coef[0:5].apply(lambda x: round(x, 2 - int(np.floor(np.log10(abs(x))))))\n",
    "#st.subheader(\"55: Provide excellent service\")\n",
    "#st.subheader('absolute value of mean coefficient:')\n",
    "#st.write(mean_coef_reduced[55])\n",
    "\n",
    "#st.subheader(\"62: Chef's tenure\")\n",
    "#st.write(mean_coef_reduced[62])\n",
    "\n",
    "#st.subheader(\"21: Managers avoid playing favorites\")\n",
    "#st.write(mean_coef_reduced[21])\n",
    "\n",
    "#st.subheader(\"64: Office Manager's tenure\")\n",
    "#st.write(mean_coef_reduced[64])\n",
    "\n",
    "#st.subheader(\"24: People given a lot of responsibility\")\n",
    "#st.write(mean_coef_reduced[24])\n",
    "\n",
    "#incorporate interaction terms\n",
    "poly = pp.PolynomialFeatures(interaction_only=True,include_bias = False)\n",
    "selected_features_interaction=poly.fit_transform(selected_features)\n",
    "selected_features_interaction=pd.DataFrame(data=selected_features_interaction)\n",
    "selected_features_interaction.head(10)\n",
    "\n"
   ]
  },
  {
   "cell_type": "code",
   "execution_count": 8,
   "metadata": {},
   "outputs": [],
   "source": [
    "#make a model with interactions.\n",
    "#Run N times and take the average.\n",
    "#Try to use the shuffle split function => later\n",
    "x_linear = selected_features_interaction\n",
    "y_linear = turnOverRate #Turn over\n",
    "\n",
    "train_number = NofTraining\n",
    "#Run this part for selected number of times and get the values for r-squared, alpha, and the weights.\n",
    "#reg.alpha_, reg.coef_, r2score.\n",
    "\n",
    "#initialize\n",
    "linear_r_squared = np.zeros((train_number,1))\n",
    "linear_coef = np.zeros((train_number,x_linear.shape[1]))\n",
    "\n",
    "for trialNo in range(train_number):\n",
    "    \n",
    "    #split 80-20\n",
    "    Xl_train, Xl_test, Yl_train, Yl_test = train_test_split(x_linear, y_linear, test_size=0.2)\n",
    "    \n",
    "\n",
    "    linear_reg = linear_model.LinearRegression()\n",
    "    linear_reg.fit(Xl_train,Yl_train)\n",
    "    \n",
    "    \n",
    "    Ypredl = linear_reg.predict(Xl_test)\n",
    "    \n",
    "    linear_r_squared[trialNo] = r2_score(Yl_test, Ypredl)\n",
    "    linear_coef[trialNo,:] = linear_reg.coef_\n",
    "\n",
    "#st.header(\"Results from linear regression with interaction\")\n",
    "\n",
    "#Plot the distribution.\n",
    "#linear_r_squared_df=pd.DataFrame(data=linear_r_squared)\n",
    "#linear_r_squared_df.hist()\n",
    "#sb.distplot(linear_r_squared_df, axlabel='coefficent of determination')\n",
    "#sb.despine()\n",
    "#st.pyplot()\n",
    "\n"
   ]
  },
  {
   "cell_type": "code",
   "execution_count": 9,
   "metadata": {},
   "outputs": [
    {
     "data": {
      "text/plain": [
       "Text(0.5, 1.0, 'average weight for each feature/interaction')"
      ]
     },
     "execution_count": 9,
     "metadata": {},
     "output_type": "execute_result"
    },
    {
     "data": {
      "image/png": "[encoded data removed]",
      "text/plain": [
       "<Figure size 432x288 with 1 Axes>"
      ]
     },
     "metadata": {
      "needs_background": "light"
     },
     "output_type": "display_data"
    }
   ],
   "source": [
    "\n",
    "#Calculate mean and plot\n",
    "linear_coef_df = pd.DataFrame(data=linear_coef)\n",
    "mean_linear_coef=linear_coef_df.mean()\n",
    "plt.plot(mean_linear_coef,linestyle='none',marker='o',markersize=8,color='red') \n",
    "plt.xlabel('feature/interaction number')\n",
    "#plt.ylabel('average weight for each feature')\n",
    "plt.title('average weight for each feature/interaction')\n",
    "#st.pyplot()\n",
    "\n"
   ]
  },
  {
   "cell_type": "code",
   "execution_count": 10,
   "metadata": {},
   "outputs": [
    {
     "data": {
      "text/plain": [
       "<matplotlib.axes._subplots.AxesSubplot at 0x7f67a87e2be0>"
      ]
     },
     "execution_count": 10,
     "metadata": {},
     "output_type": "execute_result"
    },
    {
     "data": {
      "image/png": "[encoded data removed]",
      "text/plain": [
       "<Figure size 432x288 with 1 Axes>"
      ]
     },
     "metadata": {
      "needs_background": "light"
     },
     "output_type": "display_data"
    }
   ],
   "source": [
    "\n",
    "#st.subheader(\"Predicted turnover rate vs actual turnover rate\")\n",
    "#Calculate the prediction with the average model and plot the actual vs the prediction.\n",
    "#Highlight the current location.\n",
    "PredictionMatrix=x_linear.multiply(mean_linear_coef)\n",
    "PredictionValue=PredictionMatrix.sum(axis=1)\n",
    "#Have 1 only for the current location\n",
    "index = LocationCodeComprehensive==location\n",
    "#Put together into a single data frame so we can plot easier\n",
    "frameMVP = { 'turnover rate': turnOverRate, 'Predicted turnover': PredictionValue} \n",
    "dataForPlotMVP = pd.DataFrame(frameMVP)\n",
    "\n",
    "fig, ax = plt.subplots()\n",
    "#plot the regression line and all the data\n",
    "sb.regplot(x='Predicted turnover', y='turnover rate', data=dataForPlotMVP, ax = ax)\n",
    "#just for the current location\n",
    "frameMVP2 = { 'turnover rate': turnOverRate[index], 'Predicted turnover': PredictionValue[index]} \n",
    "dataForPlotMVP2 = pd.DataFrame(frameMVP2)\n",
    "sb.scatterplot(x='Predicted turnover', y='turnover rate', data=dataForPlotMVP2, color=sb.xkcd_rgb[\"pale red\"], ax = ax)\n",
    "#st.pyplot()\n",
    "\n",
    "\n"
   ]
  },
  {
   "cell_type": "code",
   "execution_count": 67,
   "metadata": {},
   "outputs": [],
   "source": [
    "#User chose how much to reduce figure out how much do we need to reduce in the log transformed scaled unit.\n",
    "TurnOver2=TurnOver2.reset_index(drop=True)\n",
    "#reset row index\n",
    "dataX2=dataX2.reset_index(drop=True)\n",
    "#and the column names.\n",
    "dataX2.columns = range(dataX2.shape[1])\n",
    "\n",
    "base_turnover=TurnOver2[index]\n",
    "new_turnover = base_turnover*(1-(percent_turnover/100))\n",
    "log_new_turnover = np.log(new_turnover+0.1)\n",
    "scaled_turnover = (log_new_turnover-scalerOccupancyTurnover.mean_[1])/scalerOccupancyTurnover.scale_[1]\n",
    "\n",
    "current_turnover = turnOverRate[index]\n",
    "turnover_change = scaled_turnover-current_turnover\n",
    "#currently assumes we use the top component and have selected 3 features. We need find the correct coefficents for other cases automatically.\n",
    "#I think if we chose top component, the coef we need are [0] and interaction terms are [number of components] to [number of components + number of components-2] we also need to multiply each components wih the other features.\n",
    "#feature_change = turnover_change/(mean_linear_coef[0]+mean_linear_coef[3]+mean_linear_coef[4])\n",
    "feature_change = turnover_change/(mean_linear_coef[0]+mean_linear_coef[3]*selected_features_interaction.loc[LocationCodeComprehensive==location,1]+mean_linear_coef[4]*selected_features_interaction.loc[LocationCodeComprehensive==location,2])\n",
    "\n",
    "#bring it back to what it means in the raw data scale. The raw value of the feature has to be between 0 and 1.\n",
    "#new_feature = selected_features.loc[LocationCodeComprehensive==location,55]+feature_change\n",
    "new_feature = selected_features_interaction.loc[LocationCodeComprehensive==location,0]+feature_change\n",
    "\n",
    "new_feature_before_scale = (new_feature*scalerEmployeeResponse.scale_[55])+scalerEmployeeResponse.mean_[55]\n",
    "new_feature_before_transform = 1.1-np.exp(0.1-new_feature_before_scale)\n",
    "current_feature = dataX2.loc[LocationCodeComprehensive==location,55]\n",
    "#feature_change = new_feature_before_transform - current_feature\n",
    "\n",
    "#st.subheader(\"Current score for the (Q55: Provide excellent service)\")\n",
    "#st.write(round(current_feature[0], 2 - int(np.floor(np.log10(abs(current_feature[0]))))))\n",
    "#st.subheader(\"target score to achieve the turnover goal\")\n",
    "#st.write(round(new_feature_before_transform[0], 2 - int(np.floor(np.log10(abs(new_feature_before_transform[0]))))))\n"
   ]
  },
  {
   "cell_type": "code",
   "execution_count": 68,
   "metadata": {},
   "outputs": [
    {
     "data": {
      "text/plain": [
       "5   -1.285651\n",
       "Name: 55, dtype: float64"
      ]
     },
     "execution_count": 68,
     "metadata": {},
     "output_type": "execute_result"
    }
   ],
   "source": [
    "test1=np.log(1.1-current_feature)\n",
    "test1"
   ]
  },
  {
   "cell_type": "code",
   "execution_count": 69,
   "metadata": {},
   "outputs": [
    {
     "data": {
      "text/plain": [
       "5    1.385651\n",
       "Name: 55, dtype: float64"
      ]
     },
     "execution_count": 69,
     "metadata": {},
     "output_type": "execute_result"
    }
   ],
   "source": [
    "test2=0.1-test1\n",
    "test2"
   ]
  },
  {
   "cell_type": "code",
   "execution_count": 70,
   "metadata": {},
   "outputs": [
    {
     "data": {
      "text/plain": [
       "5    0.147224\n",
       "Name: 55, dtype: float64"
      ]
     },
     "execution_count": 70,
     "metadata": {},
     "output_type": "execute_result"
    }
   ],
   "source": [
    "test3=(test2-scalerEmployeeResponse.mean_[55])/scalerEmployeeResponse.scale_[55]\n",
    "test3"
   ]
  },
  {
   "cell_type": "code",
   "execution_count": null,
   "metadata": {},
   "outputs": [],
   "source": []
  },
  {
   "cell_type": "code",
   "execution_count": null,
   "metadata": {},
   "outputs": [],
   "source": []
  },
  {
   "cell_type": "code",
   "execution_count": null,
   "metadata": {},
   "outputs": [],
   "source": []
  },
  {
   "cell_type": "code",
   "execution_count": null,
   "metadata": {},
   "outputs": [],
   "source": []
  },
  {
   "cell_type": "code",
   "execution_count": null,
   "metadata": {},
   "outputs": [],
   "source": []
  },
  {
   "cell_type": "code",
   "execution_count": null,
   "metadata": {},
   "outputs": [],
   "source": []
  },
  {
   "cell_type": "code",
   "execution_count": null,
   "metadata": {},
   "outputs": [],
   "source": []
  }
 ],
 "metadata": {
  "kernelspec": {
   "display_name": "Python 3",
   "language": "python",
   "name": "python3"
  },
  "language_info": {
   "codemirror_mode": {
    "name": "ipython",
    "version": 3
   },
   "file_extension": ".py",
   "mimetype": "text/x-python",
   "name": "python",
   "nbconvert_exporter": "python",
   "pygments_lexer": "ipython3",
   "version": "3.6.10"
  }
 },
 "nbformat": 4,
 "nbformat_minor": 2
}
